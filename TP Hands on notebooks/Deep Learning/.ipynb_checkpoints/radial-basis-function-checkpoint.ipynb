{
 "cells": [
  {
   "cell_type": "markdown",
   "metadata": {
    "_cell_guid": "b1076dfc-b9ad-4769-8c92-a6c4dae69d19",
    "_uuid": "8f2839f25d086af736a60e9eeb907d3b93b6e0e5",
    "execution": {
     "iopub.execute_input": "2022-01-27T13:35:37.694315Z",
     "iopub.status.busy": "2022-01-27T13:35:37.693414Z",
     "iopub.status.idle": "2022-01-27T13:35:42.467748Z",
     "shell.execute_reply": "2022-01-27T13:35:42.466996Z",
     "shell.execute_reply.started": "2022-01-27T13:35:37.694170Z"
    }
   },
   "source": [
    "## **Radial Basis Function**\n",
    "Image result for what is radial basis function\n",
    "In the field of mathematical modeling, a radial basis function network is an artificial neural network that uses radial basis functions as activation functions. ... Radial basis function networks have many uses, including function approximation, time series prediction, classification, and system control.\n"
   ]
  },
  {
   "cell_type": "code",
   "execution_count": 27,
   "metadata": {
    "execution": {
     "iopub.execute_input": "2022-01-27T13:47:03.626639Z",
     "iopub.status.busy": "2022-01-27T13:47:03.626365Z",
     "iopub.status.idle": "2022-01-27T13:47:03.633021Z",
     "shell.execute_reply": "2022-01-27T13:47:03.630969Z",
     "shell.execute_reply.started": "2022-01-27T13:47:03.626590Z"
    }
   },
   "outputs": [],
   "source": [
    "import pandas as pd\n",
    "import numpy as np\n",
    "\n",
    "import matplotlib.pyplot as plt\n",
    "from keras.layers import Layer\n",
    "from keras import backend as K\n",
    "\n",
    "from keras.layers import Dense, Flatten\n",
    "from keras.models import Sequential\n",
    "from keras.losses import binary_crossentropy"
   ]
  },
  {
   "cell_type": "markdown",
   "metadata": {},
   "source": [
    "### **reading dataset**\n",
    "`Kuzushiji-MNIST` is a drop-in replacement for the MNIST dataset (28x28 grayscale, 70,000 images), provided in the original MNIST format as well as a NumPy format. Since MNIST restricts us to 10 classes, we chose one character to represent each of the 10 rows of Hiragana when creating Kuzushiji-MNIST."
   ]
  },
  {
   "cell_type": "code",
   "execution_count": 10,
   "metadata": {
    "execution": {
     "iopub.execute_input": "2022-01-27T13:40:25.957291Z",
     "iopub.status.busy": "2022-01-27T13:40:25.957044Z",
     "iopub.status.idle": "2022-01-27T13:40:28.826280Z",
     "shell.execute_reply": "2022-01-27T13:40:28.825514Z",
     "shell.execute_reply.started": "2022-01-27T13:40:25.957263Z"
    }
   },
   "outputs": [],
   "source": [
    "''' reading dataset '''\n",
    "X = np.load('../input/kuzushiji/k49-train-imgs.npz')['arr_0']\n",
    "y = np.load('../input/kuzushiji/k49-train-labels.npz')['arr_0']"
   ]
  },
  {
   "cell_type": "code",
   "execution_count": 22,
   "metadata": {
    "execution": {
     "iopub.execute_input": "2022-01-27T13:43:03.227268Z",
     "iopub.status.busy": "2022-01-27T13:43:03.226717Z",
     "iopub.status.idle": "2022-01-27T13:43:03.939882Z",
     "shell.execute_reply": "2022-01-27T13:43:03.939186Z",
     "shell.execute_reply.started": "2022-01-27T13:43:03.227230Z"
    }
   },
   "outputs": [],
   "source": [
    "''' plotting some images '''\n",
    "plt.figure(figsize=(10,8))\n",
    "for i in range(16):\n",
    "    plt.subplot(4, 4, i + 1)\n",
    "    plt.imshow(X[i], cmap='binary')\n",
    "    plt.axis('off')\n",
    "plt.axis('off');"
   ]
  },
  {
   "cell_type": "code",
   "execution_count": 25,
   "metadata": {
    "execution": {
     "iopub.execute_input": "2022-01-27T13:45:00.966427Z",
     "iopub.status.busy": "2022-01-27T13:45:00.966143Z",
     "iopub.status.idle": "2022-01-27T13:45:00.973334Z",
     "shell.execute_reply": "2022-01-27T13:45:00.971139Z",
     "shell.execute_reply.started": "2022-01-27T13:45:00.966395Z"
    }
   },
   "outputs": [],
   "source": [
    "X.shape"
   ]
  },
  {
   "cell_type": "markdown",
   "metadata": {},
   "source": [
    "### **RBF Model**\n",
    "The centre, the distance scale, and the precise shape of the radial function are parameters of the model, all fixed if it is linear. r2 : Its parameters are its centre c and its radius r. Figure 2 illustrates a Gaussian RBF with centre c = 0 and radius r = 1."
   ]
  },
  {
   "cell_type": "code",
   "execution_count": 29,
   "metadata": {
    "execution": {
     "iopub.execute_input": "2022-01-27T13:48:09.476531Z",
     "iopub.status.busy": "2022-01-27T13:48:09.476034Z",
     "iopub.status.idle": "2022-01-27T13:48:09.516953Z",
     "shell.execute_reply": "2022-01-27T13:48:09.516298Z",
     "shell.execute_reply.started": "2022-01-27T13:48:09.476493Z"
    }
   },
   "outputs": [],
   "source": [
    "class RBFLayer(Layer):\n",
    "    def __init__(self, units, gamma, **kwargs):\n",
    "        super(RBFLayer, self).__init__(**kwargs)\n",
    "        self.units = units\n",
    "        self.gamma = K.cast_to_floatx(gamma)\n",
    "\n",
    "    def build(self, input_shape):\n",
    "        self.mu = self.add_weight(name='mu',\n",
    "                                  shape=(int(input_shape[1]), self.units),\n",
    "                                  initializer='uniform',\n",
    "                                  trainable=True)\n",
    "        super(RBFLayer, self).build(input_shape)\n",
    "\n",
    "    def call(self, inputs):\n",
    "        diff = K.expand_dims(inputs) - self.mu\n",
    "        l2 = K.sum(K.pow(diff, 2), axis=1)\n",
    "        res = K.exp(-1 * self.gamma * l2)\n",
    "        return res\n",
    "\n",
    "    def compute_output_shape(self, input_shape):\n",
    "        return (input_shape[0], self.units)\n",
    "\n",
    "model = Sequential()\n",
    "model.add(Flatten(input_shape=(28, 28)))\n",
    "model.add(RBFLayer(10, 0.5))\n",
    "model.add(Dense(1, activation='sigmoid', name='foo'))\n",
    "\n",
    "''' initializing the loss and optimizer '''\n",
    "model.compile(optimizer='rmsprop', loss=binary_crossentropy)"
   ]
  },
  {
   "cell_type": "code",
   "execution_count": 31,
   "metadata": {
    "execution": {
     "iopub.execute_input": "2022-01-27T13:48:47.443093Z",
     "iopub.status.busy": "2022-01-27T13:48:47.442701Z",
     "iopub.status.idle": "2022-01-27T13:50:41.535253Z",
     "shell.execute_reply": "2022-01-27T13:50:41.534450Z",
     "shell.execute_reply.started": "2022-01-27T13:48:47.443046Z"
    }
   },
   "outputs": [],
   "source": [
    "''' training '''\n",
    "model.fit(X, y, batch_size=256, epochs=50)"
   ]
  },
  {
   "cell_type": "code",
   "execution_count": null,
   "metadata": {},
   "outputs": [],
   "source": []
  }
 ],
 "metadata": {
  "kernelspec": {
   "display_name": "Python 3",
   "language": "python",
   "name": "python3"
  },
  "language_info": {
   "codemirror_mode": {
    "name": "ipython",
    "version": 3
   },
   "file_extension": ".py",
   "mimetype": "text/x-python",
   "name": "python",
   "nbconvert_exporter": "python",
   "pygments_lexer": "ipython3",
   "version": "3.8.5"
  }
 },
 "nbformat": 4,
 "nbformat_minor": 4
}
