{
 "cells": [
  {
   "cell_type": "code",
   "execution_count": 29,
   "id": "b49ca41d",
   "metadata": {},
   "outputs": [],
   "source": [
    "import numpy as np\n",
    "import pandas as pd\n",
    "import seaborn as sns\n",
    "import matplotlib.pyplot as plt\n",
    "from sklearn.metrics import classification_report,accuracy_score,confusion_matrix,recall_score\n",
    "from sklearn.datasets import load_breast_cancer\n",
    "from sklearn.tree import DecisionTreeClassifier\n",
    "from sklearn.model_selection import train_test_split\n",
    "\n",
    "%matplotlib inline"
   ]
  },
  {
   "cell_type": "code",
   "execution_count": 23,
   "id": "17b83323",
   "metadata": {},
   "outputs": [
    {
     "data": {
      "text/plain": [
       "array([[1.799e+01, 1.038e+01, 1.228e+02, ..., 2.654e-01, 4.601e-01,\n",
       "        1.189e-01],\n",
       "       [2.057e+01, 1.777e+01, 1.329e+02, ..., 1.860e-01, 2.750e-01,\n",
       "        8.902e-02],\n",
       "       [1.969e+01, 2.125e+01, 1.300e+02, ..., 2.430e-01, 3.613e-01,\n",
       "        8.758e-02],\n",
       "       ...,\n",
       "       [1.660e+01, 2.808e+01, 1.083e+02, ..., 1.418e-01, 2.218e-01,\n",
       "        7.820e-02],\n",
       "       [2.060e+01, 2.933e+01, 1.401e+02, ..., 2.650e-01, 4.087e-01,\n",
       "        1.240e-01],\n",
       "       [7.760e+00, 2.454e+01, 4.792e+01, ..., 0.000e+00, 2.871e-01,\n",
       "        7.039e-02]])"
      ]
     },
     "execution_count": 23,
     "metadata": {},
     "output_type": "execute_result"
    }
   ],
   "source": [
    "dataset = load_breast_cancer()\n",
    "dataset.data"
   ]
  },
  {
   "cell_type": "code",
   "execution_count": 24,
   "id": "eba72c6e",
   "metadata": {},
   "outputs": [
    {
     "data": {
      "text/plain": [
       "array(['mean radius', 'mean texture', 'mean perimeter', 'mean area',\n",
       "       'mean smoothness', 'mean compactness', 'mean concavity',\n",
       "       'mean concave points', 'mean symmetry', 'mean fractal dimension',\n",
       "       'radius error', 'texture error', 'perimeter error', 'area error',\n",
       "       'smoothness error', 'compactness error', 'concavity error',\n",
       "       'concave points error', 'symmetry error',\n",
       "       'fractal dimension error', 'worst radius', 'worst texture',\n",
       "       'worst perimeter', 'worst area', 'worst smoothness',\n",
       "       'worst compactness', 'worst concavity', 'worst concave points',\n",
       "       'worst symmetry', 'worst fractal dimension'], dtype='<U23')"
      ]
     },
     "execution_count": 24,
     "metadata": {},
     "output_type": "execute_result"
    }
   ],
   "source": [
    "dataset.feature_names"
   ]
  },
  {
   "cell_type": "code",
   "execution_count": 25,
   "id": "757f4056",
   "metadata": {},
   "outputs": [
    {
     "data": {
      "text/plain": [
       "array(['malignant', 'benign'], dtype='<U9')"
      ]
     },
     "execution_count": 25,
     "metadata": {},
     "output_type": "execute_result"
    }
   ],
   "source": [
    "dataset.target_names"
   ]
  },
  {
   "cell_type": "code",
   "execution_count": 26,
   "id": "9b5c3157",
   "metadata": {},
   "outputs": [
    {
     "data": {
      "text/plain": [
       "array([0, 0, 0, 0, 0, 0, 0, 0, 0, 0, 0, 0, 0, 0, 0, 0, 0, 0, 0, 1, 1, 1,\n",
       "       0, 0, 0, 0, 0, 0, 0, 0, 0, 0, 0, 0, 0, 0, 0, 1, 0, 0, 0, 0, 0, 0,\n",
       "       0, 0, 1, 0, 1, 1, 1, 1, 1, 0, 0, 1, 0, 0, 1, 1, 1, 1, 0, 1, 0, 0,\n",
       "       1, 1, 1, 1, 0, 1, 0, 0, 1, 0, 1, 0, 0, 1, 1, 1, 0, 0, 1, 0, 0, 0,\n",
       "       1, 1, 1, 0, 1, 1, 0, 0, 1, 1, 1, 0, 0, 1, 1, 1, 1, 0, 1, 1, 0, 1,\n",
       "       1, 1, 1, 1, 1, 1, 1, 0, 0, 0, 1, 0, 0, 1, 1, 1, 0, 0, 1, 0, 1, 0,\n",
       "       0, 1, 0, 0, 1, 1, 0, 1, 1, 0, 1, 1, 1, 1, 0, 1, 1, 1, 1, 1, 1, 1,\n",
       "       1, 1, 0, 1, 1, 1, 1, 0, 0, 1, 0, 1, 1, 0, 0, 1, 1, 0, 0, 1, 1, 1,\n",
       "       1, 0, 1, 1, 0, 0, 0, 1, 0, 1, 0, 1, 1, 1, 0, 1, 1, 0, 0, 1, 0, 0,\n",
       "       0, 0, 1, 0, 0, 0, 1, 0, 1, 0, 1, 1, 0, 1, 0, 0, 0, 0, 1, 1, 0, 0,\n",
       "       1, 1, 1, 0, 1, 1, 1, 1, 1, 0, 0, 1, 1, 0, 1, 1, 0, 0, 1, 0, 1, 1,\n",
       "       1, 1, 0, 1, 1, 1, 1, 1, 0, 1, 0, 0, 0, 0, 0, 0, 0, 0, 0, 0, 0, 0,\n",
       "       0, 0, 1, 1, 1, 1, 1, 1, 0, 1, 0, 1, 1, 0, 1, 1, 0, 1, 0, 0, 1, 1,\n",
       "       1, 1, 1, 1, 1, 1, 1, 1, 1, 1, 1, 0, 1, 1, 0, 1, 0, 1, 1, 1, 1, 1,\n",
       "       1, 1, 1, 1, 1, 1, 1, 1, 1, 0, 1, 1, 1, 0, 1, 0, 1, 1, 1, 1, 0, 0,\n",
       "       0, 1, 1, 1, 1, 0, 1, 0, 1, 0, 1, 1, 1, 0, 1, 1, 1, 1, 1, 1, 1, 0,\n",
       "       0, 0, 1, 1, 1, 1, 1, 1, 1, 1, 1, 1, 1, 0, 0, 1, 0, 0, 0, 1, 0, 0,\n",
       "       1, 1, 1, 1, 1, 0, 1, 1, 1, 1, 1, 0, 1, 1, 1, 0, 1, 1, 0, 0, 1, 1,\n",
       "       1, 1, 1, 1, 0, 1, 1, 1, 1, 1, 1, 1, 0, 1, 1, 1, 1, 1, 0, 1, 1, 0,\n",
       "       1, 1, 1, 1, 1, 1, 1, 1, 1, 1, 1, 1, 0, 1, 0, 0, 1, 0, 1, 1, 1, 1,\n",
       "       1, 0, 1, 1, 0, 1, 0, 1, 1, 0, 1, 0, 1, 1, 1, 1, 1, 1, 1, 1, 0, 0,\n",
       "       1, 1, 1, 1, 1, 1, 0, 1, 1, 1, 1, 1, 1, 1, 1, 1, 1, 0, 1, 1, 1, 1,\n",
       "       1, 1, 1, 0, 1, 0, 1, 1, 0, 1, 1, 1, 1, 1, 0, 0, 1, 0, 1, 0, 1, 1,\n",
       "       1, 1, 1, 0, 1, 1, 0, 1, 0, 1, 0, 0, 1, 1, 1, 0, 1, 1, 1, 1, 1, 1,\n",
       "       1, 1, 1, 1, 1, 0, 1, 0, 0, 1, 1, 1, 1, 1, 1, 1, 1, 1, 1, 1, 1, 1,\n",
       "       1, 1, 1, 1, 1, 1, 1, 1, 1, 1, 1, 1, 0, 0, 0, 0, 0, 0, 1])"
      ]
     },
     "execution_count": 26,
     "metadata": {},
     "output_type": "execute_result"
    }
   ],
   "source": [
    "dataset.target"
   ]
  },
  {
   "cell_type": "code",
   "execution_count": 27,
   "id": "98163125",
   "metadata": {},
   "outputs": [
    {
     "data": {
      "text/html": [
       "<div>\n",
       "<style scoped>\n",
       "    .dataframe tbody tr th:only-of-type {\n",
       "        vertical-align: middle;\n",
       "    }\n",
       "\n",
       "    .dataframe tbody tr th {\n",
       "        vertical-align: top;\n",
       "    }\n",
       "\n",
       "    .dataframe thead th {\n",
       "        text-align: right;\n",
       "    }\n",
       "</style>\n",
       "<table border=\"1\" class=\"dataframe\">\n",
       "  <thead>\n",
       "    <tr style=\"text-align: right;\">\n",
       "      <th></th>\n",
       "      <th>mean radius</th>\n",
       "      <th>mean texture</th>\n",
       "      <th>mean perimeter</th>\n",
       "      <th>mean area</th>\n",
       "      <th>mean smoothness</th>\n",
       "      <th>mean compactness</th>\n",
       "      <th>mean concavity</th>\n",
       "      <th>mean concave points</th>\n",
       "      <th>mean symmetry</th>\n",
       "      <th>mean fractal dimension</th>\n",
       "      <th>...</th>\n",
       "      <th>worst radius</th>\n",
       "      <th>worst texture</th>\n",
       "      <th>worst perimeter</th>\n",
       "      <th>worst area</th>\n",
       "      <th>worst smoothness</th>\n",
       "      <th>worst compactness</th>\n",
       "      <th>worst concavity</th>\n",
       "      <th>worst concave points</th>\n",
       "      <th>worst symmetry</th>\n",
       "      <th>worst fractal dimension</th>\n",
       "    </tr>\n",
       "  </thead>\n",
       "  <tbody>\n",
       "    <tr>\n",
       "      <th>0</th>\n",
       "      <td>17.99</td>\n",
       "      <td>10.38</td>\n",
       "      <td>122.8</td>\n",
       "      <td>1001.0</td>\n",
       "      <td>0.11840</td>\n",
       "      <td>0.27760</td>\n",
       "      <td>0.3001</td>\n",
       "      <td>0.14710</td>\n",
       "      <td>0.2419</td>\n",
       "      <td>0.07871</td>\n",
       "      <td>...</td>\n",
       "      <td>25.38</td>\n",
       "      <td>17.33</td>\n",
       "      <td>184.6</td>\n",
       "      <td>2019.0</td>\n",
       "      <td>0.1622</td>\n",
       "      <td>0.6656</td>\n",
       "      <td>0.7119</td>\n",
       "      <td>0.2654</td>\n",
       "      <td>0.4601</td>\n",
       "      <td>0.11890</td>\n",
       "    </tr>\n",
       "    <tr>\n",
       "      <th>1</th>\n",
       "      <td>20.57</td>\n",
       "      <td>17.77</td>\n",
       "      <td>132.9</td>\n",
       "      <td>1326.0</td>\n",
       "      <td>0.08474</td>\n",
       "      <td>0.07864</td>\n",
       "      <td>0.0869</td>\n",
       "      <td>0.07017</td>\n",
       "      <td>0.1812</td>\n",
       "      <td>0.05667</td>\n",
       "      <td>...</td>\n",
       "      <td>24.99</td>\n",
       "      <td>23.41</td>\n",
       "      <td>158.8</td>\n",
       "      <td>1956.0</td>\n",
       "      <td>0.1238</td>\n",
       "      <td>0.1866</td>\n",
       "      <td>0.2416</td>\n",
       "      <td>0.1860</td>\n",
       "      <td>0.2750</td>\n",
       "      <td>0.08902</td>\n",
       "    </tr>\n",
       "  </tbody>\n",
       "</table>\n",
       "<p>2 rows × 30 columns</p>\n",
       "</div>"
      ],
      "text/plain": [
       "   mean radius  mean texture  mean perimeter  mean area  mean smoothness  \\\n",
       "0        17.99         10.38           122.8     1001.0          0.11840   \n",
       "1        20.57         17.77           132.9     1326.0          0.08474   \n",
       "\n",
       "   mean compactness  mean concavity  mean concave points  mean symmetry  \\\n",
       "0           0.27760          0.3001              0.14710         0.2419   \n",
       "1           0.07864          0.0869              0.07017         0.1812   \n",
       "\n",
       "   mean fractal dimension  ...  worst radius  worst texture  worst perimeter  \\\n",
       "0                 0.07871  ...         25.38          17.33            184.6   \n",
       "1                 0.05667  ...         24.99          23.41            158.8   \n",
       "\n",
       "   worst area  worst smoothness  worst compactness  worst concavity  \\\n",
       "0      2019.0            0.1622             0.6656           0.7119   \n",
       "1      1956.0            0.1238             0.1866           0.2416   \n",
       "\n",
       "   worst concave points  worst symmetry  worst fractal dimension  \n",
       "0                0.2654          0.4601                  0.11890  \n",
       "1                0.1860          0.2750                  0.08902  \n",
       "\n",
       "[2 rows x 30 columns]"
      ]
     },
     "execution_count": 27,
     "metadata": {},
     "output_type": "execute_result"
    }
   ],
   "source": [
    "df = pd.DataFrame(dataset.data,columns=dataset.feature_names)\n",
    "df.head(2)"
   ]
  },
  {
   "cell_type": "code",
   "execution_count": 28,
   "id": "51d627d1",
   "metadata": {},
   "outputs": [
    {
     "data": {
      "text/plain": [
       "Index(['mean radius', 'mean texture', 'mean perimeter', 'mean area',\n",
       "       'mean smoothness', 'mean compactness', 'mean concavity',\n",
       "       'mean concave points', 'mean symmetry', 'mean fractal dimension',\n",
       "       'radius error', 'texture error', 'perimeter error', 'area error',\n",
       "       'smoothness error', 'compactness error', 'concavity error',\n",
       "       'concave points error', 'symmetry error', 'fractal dimension error',\n",
       "       'worst radius', 'worst texture', 'worst perimeter', 'worst area',\n",
       "       'worst smoothness', 'worst compactness', 'worst concavity',\n",
       "       'worst concave points', 'worst symmetry', 'worst fractal dimension'],\n",
       "      dtype='object')"
      ]
     },
     "execution_count": 28,
     "metadata": {},
     "output_type": "execute_result"
    }
   ],
   "source": [
    "df.columns"
   ]
  },
  {
   "cell_type": "code",
   "execution_count": 30,
   "id": "94072d2e",
   "metadata": {},
   "outputs": [],
   "source": [
    "X = df.copy()\n",
    "y = dataset.target\n",
    "\n",
    "X_train,X_test,y_train,y_test = train_test_split(X,y,test_size=0.31)"
   ]
  },
  {
   "cell_type": "code",
   "execution_count": 61,
   "id": "4900b308",
   "metadata": {},
   "outputs": [
    {
     "data": {
      "text/plain": [
       "DecisionTreeClassifier(ccp_alpha=0.01, max_depth=5)"
      ]
     },
     "execution_count": 61,
     "metadata": {},
     "output_type": "execute_result"
    }
   ],
   "source": [
    "dtc = DecisionTreeClassifier(ccp_alpha=0.01,max_depth=5)\n",
    "dtc"
   ]
  },
  {
   "cell_type": "code",
   "execution_count": 62,
   "id": "6c884511",
   "metadata": {},
   "outputs": [
    {
     "data": {
      "text/plain": [
       "DecisionTreeClassifier(ccp_alpha=0.01, max_depth=5)"
      ]
     },
     "execution_count": 62,
     "metadata": {},
     "output_type": "execute_result"
    }
   ],
   "source": [
    "dtc.fit(X_train,y_train)"
   ]
  },
  {
   "cell_type": "code",
   "execution_count": 63,
   "id": "282d3f50",
   "metadata": {},
   "outputs": [
    {
     "data": {
      "text/plain": [
       "{'ccp_alpha': 0.01,\n",
       " 'class_weight': None,\n",
       " 'criterion': 'gini',\n",
       " 'max_depth': 5,\n",
       " 'max_features': None,\n",
       " 'max_leaf_nodes': None,\n",
       " 'min_impurity_decrease': 0.0,\n",
       " 'min_impurity_split': None,\n",
       " 'min_samples_leaf': 1,\n",
       " 'min_samples_split': 2,\n",
       " 'min_weight_fraction_leaf': 0.0,\n",
       " 'random_state': None,\n",
       " 'splitter': 'best'}"
      ]
     },
     "execution_count": 63,
     "metadata": {},
     "output_type": "execute_result"
    }
   ],
   "source": [
    "dtc.get_params()"
   ]
  },
  {
   "cell_type": "code",
   "execution_count": 64,
   "id": "2e7ca981",
   "metadata": {},
   "outputs": [],
   "source": [
    "prediction = dtc.predict(X_test)"
   ]
  },
  {
   "cell_type": "code",
   "execution_count": 65,
   "id": "a5f087b5",
   "metadata": {},
   "outputs": [
    {
     "data": {
      "text/plain": [
       "array([0, 1, 1, 1, 1, 0, 1, 1, 1, 1, 1, 1, 1, 0, 0, 0, 1, 0, 1, 1, 1, 0,\n",
       "       1, 1, 0, 0, 1, 0, 1, 0, 1, 1, 1, 0, 1, 1, 1, 1, 0, 1, 0, 1, 0, 1,\n",
       "       1, 0, 1, 1, 1, 0, 1, 0, 1, 1, 1, 1, 1, 0, 1, 1, 1, 1, 0, 1, 0, 0,\n",
       "       1, 0, 0, 1, 1, 0, 1, 1, 1, 1, 1, 1, 1, 1, 1, 1, 0, 1, 1, 1, 1, 0,\n",
       "       0, 1, 1, 1, 0, 1, 1, 1, 1, 1, 1, 0, 1, 0, 0, 0, 0, 1, 0, 1, 1, 1,\n",
       "       1, 1, 1, 0, 1, 1, 1, 1, 1, 1, 0, 1, 1, 1, 0, 1, 1, 0, 1, 0, 0, 1,\n",
       "       1, 0, 1, 0, 0, 1, 1, 1, 0, 0, 0, 1, 0, 0, 0, 1, 0, 1, 1, 1, 1, 1,\n",
       "       1, 1, 0, 1, 1, 0, 0, 1, 0, 0, 0, 1, 1, 1, 1, 0, 0, 0, 0, 0, 1, 1,\n",
       "       1])"
      ]
     },
     "execution_count": 65,
     "metadata": {},
     "output_type": "execute_result"
    }
   ],
   "source": [
    "prediction"
   ]
  },
  {
   "cell_type": "code",
   "execution_count": 66,
   "id": "a62662b5",
   "metadata": {},
   "outputs": [
    {
     "data": {
      "text/plain": [
       "array([[0.9765625 , 0.0234375 ],\n",
       "       [0.025     , 0.975     ],\n",
       "       [0.025     , 0.975     ],\n",
       "       [0.025     , 0.975     ],\n",
       "       [0.025     , 0.975     ],\n",
       "       [0.9765625 , 0.0234375 ],\n",
       "       [0.025     , 0.975     ],\n",
       "       [0.025     , 0.975     ],\n",
       "       [0.025     , 0.975     ],\n",
       "       [0.025     , 0.975     ],\n",
       "       [0.025     , 0.975     ],\n",
       "       [0.025     , 0.975     ],\n",
       "       [0.025     , 0.975     ],\n",
       "       [0.9765625 , 0.0234375 ],\n",
       "       [0.9765625 , 0.0234375 ],\n",
       "       [0.9765625 , 0.0234375 ],\n",
       "       [0.025     , 0.975     ],\n",
       "       [0.9765625 , 0.0234375 ],\n",
       "       [0.025     , 0.975     ],\n",
       "       [0.025     , 0.975     ],\n",
       "       [0.025     , 0.975     ],\n",
       "       [0.9765625 , 0.0234375 ],\n",
       "       [0.025     , 0.975     ],\n",
       "       [0.025     , 0.975     ],\n",
       "       [0.9765625 , 0.0234375 ],\n",
       "       [0.9765625 , 0.0234375 ],\n",
       "       [0.025     , 0.975     ],\n",
       "       [1.        , 0.        ],\n",
       "       [0.025     , 0.975     ],\n",
       "       [1.        , 0.        ],\n",
       "       [0.025     , 0.975     ],\n",
       "       [0.025     , 0.975     ],\n",
       "       [0.025     , 0.975     ],\n",
       "       [0.9765625 , 0.0234375 ],\n",
       "       [0.28571429, 0.71428571],\n",
       "       [0.28571429, 0.71428571],\n",
       "       [0.025     , 0.975     ],\n",
       "       [0.025     , 0.975     ],\n",
       "       [1.        , 0.        ],\n",
       "       [0.28571429, 0.71428571],\n",
       "       [0.9765625 , 0.0234375 ],\n",
       "       [0.025     , 0.975     ],\n",
       "       [0.9765625 , 0.0234375 ],\n",
       "       [0.025     , 0.975     ],\n",
       "       [0.025     , 0.975     ],\n",
       "       [0.9765625 , 0.0234375 ],\n",
       "       [0.025     , 0.975     ],\n",
       "       [0.28571429, 0.71428571],\n",
       "       [0.025     , 0.975     ],\n",
       "       [0.9765625 , 0.0234375 ],\n",
       "       [0.025     , 0.975     ],\n",
       "       [1.        , 0.        ],\n",
       "       [0.025     , 0.975     ],\n",
       "       [0.28571429, 0.71428571],\n",
       "       [0.025     , 0.975     ],\n",
       "       [0.025     , 0.975     ],\n",
       "       [0.025     , 0.975     ],\n",
       "       [0.9765625 , 0.0234375 ],\n",
       "       [0.025     , 0.975     ],\n",
       "       [0.025     , 0.975     ],\n",
       "       [0.025     , 0.975     ],\n",
       "       [0.025     , 0.975     ],\n",
       "       [0.9765625 , 0.0234375 ],\n",
       "       [0.025     , 0.975     ],\n",
       "       [0.9765625 , 0.0234375 ],\n",
       "       [0.9765625 , 0.0234375 ],\n",
       "       [0.025     , 0.975     ],\n",
       "       [0.9765625 , 0.0234375 ],\n",
       "       [0.9765625 , 0.0234375 ],\n",
       "       [0.025     , 0.975     ],\n",
       "       [0.025     , 0.975     ],\n",
       "       [0.9765625 , 0.0234375 ],\n",
       "       [0.025     , 0.975     ],\n",
       "       [0.025     , 0.975     ],\n",
       "       [0.025     , 0.975     ],\n",
       "       [0.025     , 0.975     ],\n",
       "       [0.025     , 0.975     ],\n",
       "       [0.025     , 0.975     ],\n",
       "       [0.025     , 0.975     ],\n",
       "       [0.025     , 0.975     ],\n",
       "       [0.28571429, 0.71428571],\n",
       "       [0.025     , 0.975     ],\n",
       "       [0.9765625 , 0.0234375 ],\n",
       "       [0.025     , 0.975     ],\n",
       "       [0.025     , 0.975     ],\n",
       "       [0.025     , 0.975     ],\n",
       "       [0.025     , 0.975     ],\n",
       "       [1.        , 0.        ],\n",
       "       [0.9765625 , 0.0234375 ],\n",
       "       [0.025     , 0.975     ],\n",
       "       [0.025     , 0.975     ],\n",
       "       [0.025     , 0.975     ],\n",
       "       [0.9765625 , 0.0234375 ],\n",
       "       [0.025     , 0.975     ],\n",
       "       [0.025     , 0.975     ],\n",
       "       [0.28571429, 0.71428571],\n",
       "       [0.025     , 0.975     ],\n",
       "       [0.025     , 0.975     ],\n",
       "       [0.025     , 0.975     ],\n",
       "       [0.9765625 , 0.0234375 ],\n",
       "       [0.025     , 0.975     ],\n",
       "       [0.9765625 , 0.0234375 ],\n",
       "       [0.9765625 , 0.0234375 ],\n",
       "       [0.9765625 , 0.0234375 ],\n",
       "       [0.9765625 , 0.0234375 ],\n",
       "       [0.025     , 0.975     ],\n",
       "       [0.9765625 , 0.0234375 ],\n",
       "       [0.025     , 0.975     ],\n",
       "       [0.025     , 0.975     ],\n",
       "       [0.025     , 0.975     ],\n",
       "       [0.025     , 0.975     ],\n",
       "       [0.025     , 0.975     ],\n",
       "       [0.025     , 0.975     ],\n",
       "       [0.9765625 , 0.0234375 ],\n",
       "       [0.025     , 0.975     ],\n",
       "       [0.25      , 0.75      ],\n",
       "       [0.025     , 0.975     ],\n",
       "       [0.28571429, 0.71428571],\n",
       "       [0.28571429, 0.71428571],\n",
       "       [0.025     , 0.975     ],\n",
       "       [0.9765625 , 0.0234375 ],\n",
       "       [0.025     , 0.975     ],\n",
       "       [0.025     , 0.975     ],\n",
       "       [0.025     , 0.975     ],\n",
       "       [0.9765625 , 0.0234375 ],\n",
       "       [0.025     , 0.975     ],\n",
       "       [0.025     , 0.975     ],\n",
       "       [0.9765625 , 0.0234375 ],\n",
       "       [0.025     , 0.975     ],\n",
       "       [0.9765625 , 0.0234375 ],\n",
       "       [0.9765625 , 0.0234375 ],\n",
       "       [0.25      , 0.75      ],\n",
       "       [0.025     , 0.975     ],\n",
       "       [0.9765625 , 0.0234375 ],\n",
       "       [0.025     , 0.975     ],\n",
       "       [0.9765625 , 0.0234375 ],\n",
       "       [0.9765625 , 0.0234375 ],\n",
       "       [0.025     , 0.975     ],\n",
       "       [0.025     , 0.975     ],\n",
       "       [0.025     , 0.975     ],\n",
       "       [0.9765625 , 0.0234375 ],\n",
       "       [1.        , 0.        ],\n",
       "       [0.9765625 , 0.0234375 ],\n",
       "       [0.025     , 0.975     ],\n",
       "       [0.9765625 , 0.0234375 ],\n",
       "       [0.9765625 , 0.0234375 ],\n",
       "       [0.9765625 , 0.0234375 ],\n",
       "       [0.025     , 0.975     ],\n",
       "       [0.9765625 , 0.0234375 ],\n",
       "       [0.025     , 0.975     ],\n",
       "       [0.025     , 0.975     ],\n",
       "       [0.025     , 0.975     ],\n",
       "       [0.025     , 0.975     ],\n",
       "       [0.025     , 0.975     ],\n",
       "       [0.025     , 0.975     ],\n",
       "       [0.025     , 0.975     ],\n",
       "       [0.9765625 , 0.0234375 ],\n",
       "       [0.025     , 0.975     ],\n",
       "       [0.025     , 0.975     ],\n",
       "       [0.9765625 , 0.0234375 ],\n",
       "       [0.9765625 , 0.0234375 ],\n",
       "       [0.025     , 0.975     ],\n",
       "       [0.9765625 , 0.0234375 ],\n",
       "       [0.9765625 , 0.0234375 ],\n",
       "       [0.9765625 , 0.0234375 ],\n",
       "       [0.025     , 0.975     ],\n",
       "       [0.025     , 0.975     ],\n",
       "       [0.025     , 0.975     ],\n",
       "       [0.025     , 0.975     ],\n",
       "       [0.9765625 , 0.0234375 ],\n",
       "       [0.9765625 , 0.0234375 ],\n",
       "       [0.9765625 , 0.0234375 ],\n",
       "       [0.9765625 , 0.0234375 ],\n",
       "       [0.9765625 , 0.0234375 ],\n",
       "       [0.025     , 0.975     ],\n",
       "       [0.025     , 0.975     ],\n",
       "       [0.025     , 0.975     ]])"
      ]
     },
     "execution_count": 66,
     "metadata": {},
     "output_type": "execute_result"
    }
   ],
   "source": [
    "dtc.predict_proba(X_test)\n",
    "\n",
    "# (ccp_alpha=0.01) when "
   ]
  },
  {
   "cell_type": "code",
   "execution_count": 67,
   "id": "3f782bab",
   "metadata": {},
   "outputs": [
    {
     "name": "stdout",
     "output_type": "stream",
     "text": [
      "[[ 58   7]\n",
      " [  4 108]]\n"
     ]
    }
   ],
   "source": [
    "print(confusion_matrix(y_test,prediction))"
   ]
  },
  {
   "cell_type": "code",
   "execution_count": 68,
   "id": "94937047",
   "metadata": {},
   "outputs": [
    {
     "name": "stdout",
     "output_type": "stream",
     "text": [
      "0.9378531073446328\n"
     ]
    }
   ],
   "source": [
    "print(accuracy_score(y_test,prediction))"
   ]
  },
  {
   "cell_type": "code",
   "execution_count": 69,
   "id": "664e0c26",
   "metadata": {},
   "outputs": [
    {
     "name": "stdout",
     "output_type": "stream",
     "text": [
      "              precision    recall  f1-score   support\n",
      "\n",
      "   malignant       0.94      0.89      0.91        65\n",
      "      benign       0.94      0.96      0.95       112\n",
      "\n",
      "    accuracy                           0.94       177\n",
      "   macro avg       0.94      0.93      0.93       177\n",
      "weighted avg       0.94      0.94      0.94       177\n",
      "\n"
     ]
    }
   ],
   "source": [
    "print(classification_report(y_test,prediction,target_names=['malignant', 'benign']))"
   ]
  },
  {
   "cell_type": "code",
   "execution_count": 70,
   "id": "7ad3812e",
   "metadata": {},
   "outputs": [
    {
     "name": "stdout",
     "output_type": "stream",
     "text": [
      "0.9642857142857143\n"
     ]
    }
   ],
   "source": [
    "print(recall_score(y_test,prediction))"
   ]
  },
  {
   "cell_type": "code",
   "execution_count": 71,
   "id": "5b941b8b",
   "metadata": {},
   "outputs": [
    {
     "data": {
      "text/plain": [
       "array([0.        , 0.0286891 , 0.        , 0.        , 0.        ,\n",
       "       0.        , 0.        , 0.        , 0.        , 0.        ,\n",
       "       0.        , 0.02530484, 0.        , 0.        , 0.        ,\n",
       "       0.        , 0.        , 0.        , 0.        , 0.        ,\n",
       "       0.82608222, 0.        , 0.        , 0.        , 0.        ,\n",
       "       0.        , 0.        , 0.11992384, 0.        , 0.        ])"
      ]
     },
     "execution_count": 71,
     "metadata": {},
     "output_type": "execute_result"
    }
   ],
   "source": [
    "dtc.feature_importances_"
   ]
  },
  {
   "cell_type": "code",
   "execution_count": 72,
   "id": "66b97437",
   "metadata": {},
   "outputs": [
    {
     "data": {
      "text/plain": [
       "Index(['mean radius', 'mean texture', 'mean perimeter', 'mean area',\n",
       "       'mean smoothness', 'mean compactness', 'mean concavity',\n",
       "       'mean concave points', 'mean symmetry', 'mean fractal dimension',\n",
       "       'radius error', 'texture error', 'perimeter error', 'area error',\n",
       "       'smoothness error', 'compactness error', 'concavity error',\n",
       "       'concave points error', 'symmetry error', 'fractal dimension error',\n",
       "       'worst radius', 'worst texture', 'worst perimeter', 'worst area',\n",
       "       'worst smoothness', 'worst compactness', 'worst concavity',\n",
       "       'worst concave points', 'worst symmetry', 'worst fractal dimension'],\n",
       "      dtype='object')"
      ]
     },
     "execution_count": 72,
     "metadata": {},
     "output_type": "execute_result"
    }
   ],
   "source": [
    "feature_names = X.columns\n",
    "feature_names"
   ]
  },
  {
   "cell_type": "code",
   "execution_count": 73,
   "id": "ea010c3d",
   "metadata": {},
   "outputs": [
    {
     "data": {
      "text/html": [
       "<div>\n",
       "<style scoped>\n",
       "    .dataframe tbody tr th:only-of-type {\n",
       "        vertical-align: middle;\n",
       "    }\n",
       "\n",
       "    .dataframe tbody tr th {\n",
       "        vertical-align: top;\n",
       "    }\n",
       "\n",
       "    .dataframe thead th {\n",
       "        text-align: right;\n",
       "    }\n",
       "</style>\n",
       "<table border=\"1\" class=\"dataframe\">\n",
       "  <thead>\n",
       "    <tr style=\"text-align: right;\">\n",
       "      <th></th>\n",
       "      <th>0</th>\n",
       "    </tr>\n",
       "  </thead>\n",
       "  <tbody>\n",
       "    <tr>\n",
       "      <th>worst radius</th>\n",
       "      <td>0.826082</td>\n",
       "    </tr>\n",
       "    <tr>\n",
       "      <th>worst concave points</th>\n",
       "      <td>0.119924</td>\n",
       "    </tr>\n",
       "    <tr>\n",
       "      <th>mean texture</th>\n",
       "      <td>0.028689</td>\n",
       "    </tr>\n",
       "    <tr>\n",
       "      <th>texture error</th>\n",
       "      <td>0.025305</td>\n",
       "    </tr>\n",
       "    <tr>\n",
       "      <th>mean radius</th>\n",
       "      <td>0.000000</td>\n",
       "    </tr>\n",
       "    <tr>\n",
       "      <th>concavity error</th>\n",
       "      <td>0.000000</td>\n",
       "    </tr>\n",
       "    <tr>\n",
       "      <th>worst symmetry</th>\n",
       "      <td>0.000000</td>\n",
       "    </tr>\n",
       "    <tr>\n",
       "      <th>worst concavity</th>\n",
       "      <td>0.000000</td>\n",
       "    </tr>\n",
       "    <tr>\n",
       "      <th>worst compactness</th>\n",
       "      <td>0.000000</td>\n",
       "    </tr>\n",
       "    <tr>\n",
       "      <th>worst smoothness</th>\n",
       "      <td>0.000000</td>\n",
       "    </tr>\n",
       "    <tr>\n",
       "      <th>worst area</th>\n",
       "      <td>0.000000</td>\n",
       "    </tr>\n",
       "    <tr>\n",
       "      <th>worst perimeter</th>\n",
       "      <td>0.000000</td>\n",
       "    </tr>\n",
       "    <tr>\n",
       "      <th>worst texture</th>\n",
       "      <td>0.000000</td>\n",
       "    </tr>\n",
       "    <tr>\n",
       "      <th>fractal dimension error</th>\n",
       "      <td>0.000000</td>\n",
       "    </tr>\n",
       "    <tr>\n",
       "      <th>symmetry error</th>\n",
       "      <td>0.000000</td>\n",
       "    </tr>\n",
       "    <tr>\n",
       "      <th>concave points error</th>\n",
       "      <td>0.000000</td>\n",
       "    </tr>\n",
       "    <tr>\n",
       "      <th>compactness error</th>\n",
       "      <td>0.000000</td>\n",
       "    </tr>\n",
       "    <tr>\n",
       "      <th>smoothness error</th>\n",
       "      <td>0.000000</td>\n",
       "    </tr>\n",
       "    <tr>\n",
       "      <th>area error</th>\n",
       "      <td>0.000000</td>\n",
       "    </tr>\n",
       "    <tr>\n",
       "      <th>perimeter error</th>\n",
       "      <td>0.000000</td>\n",
       "    </tr>\n",
       "    <tr>\n",
       "      <th>radius error</th>\n",
       "      <td>0.000000</td>\n",
       "    </tr>\n",
       "    <tr>\n",
       "      <th>mean fractal dimension</th>\n",
       "      <td>0.000000</td>\n",
       "    </tr>\n",
       "    <tr>\n",
       "      <th>mean symmetry</th>\n",
       "      <td>0.000000</td>\n",
       "    </tr>\n",
       "    <tr>\n",
       "      <th>mean concave points</th>\n",
       "      <td>0.000000</td>\n",
       "    </tr>\n",
       "    <tr>\n",
       "      <th>mean concavity</th>\n",
       "      <td>0.000000</td>\n",
       "    </tr>\n",
       "    <tr>\n",
       "      <th>mean compactness</th>\n",
       "      <td>0.000000</td>\n",
       "    </tr>\n",
       "    <tr>\n",
       "      <th>mean smoothness</th>\n",
       "      <td>0.000000</td>\n",
       "    </tr>\n",
       "    <tr>\n",
       "      <th>mean area</th>\n",
       "      <td>0.000000</td>\n",
       "    </tr>\n",
       "    <tr>\n",
       "      <th>mean perimeter</th>\n",
       "      <td>0.000000</td>\n",
       "    </tr>\n",
       "    <tr>\n",
       "      <th>worst fractal dimension</th>\n",
       "      <td>0.000000</td>\n",
       "    </tr>\n",
       "  </tbody>\n",
       "</table>\n",
       "</div>"
      ],
      "text/plain": [
       "                                0\n",
       "worst radius             0.826082\n",
       "worst concave points     0.119924\n",
       "mean texture             0.028689\n",
       "texture error            0.025305\n",
       "mean radius              0.000000\n",
       "concavity error          0.000000\n",
       "worst symmetry           0.000000\n",
       "worst concavity          0.000000\n",
       "worst compactness        0.000000\n",
       "worst smoothness         0.000000\n",
       "worst area               0.000000\n",
       "worst perimeter          0.000000\n",
       "worst texture            0.000000\n",
       "fractal dimension error  0.000000\n",
       "symmetry error           0.000000\n",
       "concave points error     0.000000\n",
       "compactness error        0.000000\n",
       "smoothness error         0.000000\n",
       "area error               0.000000\n",
       "perimeter error          0.000000\n",
       "radius error             0.000000\n",
       "mean fractal dimension   0.000000\n",
       "mean symmetry            0.000000\n",
       "mean concave points      0.000000\n",
       "mean concavity           0.000000\n",
       "mean compactness         0.000000\n",
       "mean smoothness          0.000000\n",
       "mean area                0.000000\n",
       "mean perimeter           0.000000\n",
       "worst fractal dimension  0.000000"
      ]
     },
     "execution_count": 73,
     "metadata": {},
     "output_type": "execute_result"
    }
   ],
   "source": [
    "feature_importance = pd.DataFrame(dtc.feature_importances_, index = feature_names).sort_values(0, ascending=False)\n",
    "feature_importance"
   ]
  },
  {
   "cell_type": "code",
   "execution_count": 74,
   "id": "a1ea1fd8",
   "metadata": {},
   "outputs": [
    {
     "data": {
      "text/html": [
       "<div>\n",
       "<style scoped>\n",
       "    .dataframe tbody tr th:only-of-type {\n",
       "        vertical-align: middle;\n",
       "    }\n",
       "\n",
       "    .dataframe tbody tr th {\n",
       "        vertical-align: top;\n",
       "    }\n",
       "\n",
       "    .dataframe thead th {\n",
       "        text-align: right;\n",
       "    }\n",
       "</style>\n",
       "<table border=\"1\" class=\"dataframe\">\n",
       "  <thead>\n",
       "    <tr style=\"text-align: right;\">\n",
       "      <th></th>\n",
       "      <th>0</th>\n",
       "    </tr>\n",
       "  </thead>\n",
       "  <tbody>\n",
       "    <tr>\n",
       "      <th>worst radius</th>\n",
       "      <td>0.826082</td>\n",
       "    </tr>\n",
       "    <tr>\n",
       "      <th>worst concave points</th>\n",
       "      <td>0.119924</td>\n",
       "    </tr>\n",
       "    <tr>\n",
       "      <th>mean texture</th>\n",
       "      <td>0.028689</td>\n",
       "    </tr>\n",
       "    <tr>\n",
       "      <th>texture error</th>\n",
       "      <td>0.025305</td>\n",
       "    </tr>\n",
       "  </tbody>\n",
       "</table>\n",
       "</div>"
      ],
      "text/plain": [
       "                             0\n",
       "worst radius          0.826082\n",
       "worst concave points  0.119924\n",
       "mean texture          0.028689\n",
       "texture error         0.025305"
      ]
     },
     "execution_count": 74,
     "metadata": {},
     "output_type": "execute_result"
    }
   ],
   "source": [
    "feature_importance[feature_importance[0] >0]"
   ]
  },
  {
   "cell_type": "code",
   "execution_count": 78,
   "id": "b22962ed",
   "metadata": {},
   "outputs": [
    {
     "data": {
      "text/plain": [
       "[Text(279.0, 713.475, 'worst radius <= 16.795\\ngini = 0.469\\nsamples = 392\\nvalue = [147, 245]'),\n",
       " Text(139.5, 509.625, 'worst concave points <= 0.142\\ngini = 0.148\\nsamples = 260\\nvalue = [21, 239]'),\n",
       " Text(69.75, 305.775, 'gini = 0.049\\nsamples = 240\\nvalue = [6, 234]'),\n",
       " Text(209.25, 305.775, 'mean texture <= 19.71\\ngini = 0.375\\nsamples = 20\\nvalue = [15, 5]'),\n",
       " Text(139.5, 101.92499999999995, 'gini = 0.408\\nsamples = 7\\nvalue = [2, 5]'),\n",
       " Text(279.0, 101.92499999999995, 'gini = 0.0\\nsamples = 13\\nvalue = [13, 0]'),\n",
       " Text(418.5, 509.625, 'texture error <= 0.473\\ngini = 0.087\\nsamples = 132\\nvalue = [126, 6]'),\n",
       " Text(348.75, 305.775, 'gini = 0.375\\nsamples = 4\\nvalue = [1, 3]'),\n",
       " Text(488.25, 305.775, 'gini = 0.046\\nsamples = 128\\nvalue = [125, 3]')]"
      ]
     },
     "execution_count": 78,
     "metadata": {},
     "output_type": "execute_result"
    },
    {
     "data": {
      "image/png": "[encoded data removed]",
      "text/plain": [
       "<Figure size 720x1080 with 1 Axes>"
      ]
     },
     "metadata": {
      "needs_background": "light"
     },
     "output_type": "display_data"
    }
   ],
   "source": [
    "plt.figure(figsize=(10,15))\n",
    "from sklearn import tree\n",
    "\n",
    "tree.plot_tree(dtc,filled=True,fontsize=12,feature_names=feature_names)"
   ]
  },
  {
   "cell_type": "code",
   "execution_count": null,
   "id": "55dc7282",
   "metadata": {},
   "outputs": [],
   "source": []
  }
 ],
 "metadata": {
  "kernelspec": {
   "display_name": "Python 3 (ipykernel)",
   "language": "python",
   "name": "python3"
  },
  "language_info": {
   "codemirror_mode": {
    "name": "ipython",
    "version": 3
   },
   "file_extension": ".py",
   "mimetype": "text/x-python",
   "name": "python",
   "nbconvert_exporter": "python",
   "pygments_lexer": "ipython3",
   "version": "3.9.7"
  }
 },
 "nbformat": 4,
 "nbformat_minor": 5
}
