{
  "nbformat": 4,
  "nbformat_minor": 0,
  "metadata": {
    "colab": {
      "name": "Untitled1.ipynb",
      "provenance": []
    },
    "kernelspec": {
      "name": "python3",
      "display_name": "Python 3"
    }
  },
  "cells": [
    {
      "cell_type": "code",
      "metadata": {
        "id": "8uNWsVNuM7wU",
        "colab_type": "code",
        "colab": {
          "base_uri": "https://localhost:8080/",
          "height": 378
        },
        "outputId": "4a0b5307-1623-4512-ef94-96a8ea7d0954"
      },
      "source": [
        "from google.colab import files\n",
        "uploaded  = files.upload()"
      ],
      "execution_count": 16,
      "outputs": [
        {
          "output_type": "display_data",
          "data": {
            "text/html": [
              "\n",
              "     <input type=\"file\" id=\"files-2a7ccc65-4581-4ec0-aa45-4c619738e03b\" name=\"files[]\" multiple disabled />\n",
              "     <output id=\"result-2a7ccc65-4581-4ec0-aa45-4c619738e03b\">\n",
              "      Upload widget is only available when the cell has been executed in the\n",
              "      current browser session. Please rerun this cell to enable.\n",
              "      </output>\n",
              "      <script src=\"/nbextensions/google.colab/files.js\"></script> "
            ],
            "text/plain": [
              "<IPython.core.display.HTML object>"
            ]
          },
          "metadata": {
            "tags": []
          }
        },
        {
          "output_type": "error",
          "ename": "MessageError",
          "evalue": "ignored",
          "traceback": [
            "\u001b[0;31m---------------------------------------------------------------------------\u001b[0m",
            "\u001b[0;31mMessageError\u001b[0m                              Traceback (most recent call last)",
            "\u001b[0;32m<ipython-input-16-14fe766aba85>\u001b[0m in \u001b[0;36m<module>\u001b[0;34m()\u001b[0m\n\u001b[1;32m      1\u001b[0m \u001b[0;32mfrom\u001b[0m \u001b[0mgoogle\u001b[0m\u001b[0;34m.\u001b[0m\u001b[0mcolab\u001b[0m \u001b[0;32mimport\u001b[0m \u001b[0mfiles\u001b[0m\u001b[0;34m\u001b[0m\u001b[0;34m\u001b[0m\u001b[0m\n\u001b[0;32m----> 2\u001b[0;31m \u001b[0muploaded\u001b[0m  \u001b[0;34m=\u001b[0m \u001b[0mfiles\u001b[0m\u001b[0;34m.\u001b[0m\u001b[0mupload\u001b[0m\u001b[0;34m(\u001b[0m\u001b[0;34m)\u001b[0m\u001b[0;34m\u001b[0m\u001b[0;34m\u001b[0m\u001b[0m\n\u001b[0m",
            "\u001b[0;32m/usr/local/lib/python3.6/dist-packages/google/colab/files.py\u001b[0m in \u001b[0;36mupload\u001b[0;34m()\u001b[0m\n\u001b[1;32m     62\u001b[0m   result = _output.eval_js(\n\u001b[1;32m     63\u001b[0m       'google.colab._files._uploadFiles(\"{input_id}\", \"{output_id}\")'.format(\n\u001b[0;32m---> 64\u001b[0;31m           input_id=input_id, output_id=output_id))\n\u001b[0m\u001b[1;32m     65\u001b[0m   \u001b[0mfiles\u001b[0m \u001b[0;34m=\u001b[0m \u001b[0m_collections\u001b[0m\u001b[0;34m.\u001b[0m\u001b[0mdefaultdict\u001b[0m\u001b[0;34m(\u001b[0m\u001b[0m_six\u001b[0m\u001b[0;34m.\u001b[0m\u001b[0mbinary_type\u001b[0m\u001b[0;34m)\u001b[0m\u001b[0;34m\u001b[0m\u001b[0;34m\u001b[0m\u001b[0m\n\u001b[1;32m     66\u001b[0m   \u001b[0;31m# Mapping from original filename to filename as saved locally.\u001b[0m\u001b[0;34m\u001b[0m\u001b[0;34m\u001b[0m\u001b[0;34m\u001b[0m\u001b[0m\n",
            "\u001b[0;32m/usr/local/lib/python3.6/dist-packages/google/colab/output/_js.py\u001b[0m in \u001b[0;36meval_js\u001b[0;34m(script, ignore_result)\u001b[0m\n\u001b[1;32m     37\u001b[0m   \u001b[0;32mif\u001b[0m \u001b[0mignore_result\u001b[0m\u001b[0;34m:\u001b[0m\u001b[0;34m\u001b[0m\u001b[0;34m\u001b[0m\u001b[0m\n\u001b[1;32m     38\u001b[0m     \u001b[0;32mreturn\u001b[0m\u001b[0;34m\u001b[0m\u001b[0;34m\u001b[0m\u001b[0m\n\u001b[0;32m---> 39\u001b[0;31m   \u001b[0;32mreturn\u001b[0m \u001b[0m_message\u001b[0m\u001b[0;34m.\u001b[0m\u001b[0mread_reply_from_input\u001b[0m\u001b[0;34m(\u001b[0m\u001b[0mrequest_id\u001b[0m\u001b[0;34m)\u001b[0m\u001b[0;34m\u001b[0m\u001b[0;34m\u001b[0m\u001b[0m\n\u001b[0m\u001b[1;32m     40\u001b[0m \u001b[0;34m\u001b[0m\u001b[0m\n\u001b[1;32m     41\u001b[0m \u001b[0;34m\u001b[0m\u001b[0m\n",
            "\u001b[0;32m/usr/local/lib/python3.6/dist-packages/google/colab/_message.py\u001b[0m in \u001b[0;36mread_reply_from_input\u001b[0;34m(message_id, timeout_sec)\u001b[0m\n\u001b[1;32m    104\u001b[0m         reply.get('colab_msg_id') == message_id):\n\u001b[1;32m    105\u001b[0m       \u001b[0;32mif\u001b[0m \u001b[0;34m'error'\u001b[0m \u001b[0;32min\u001b[0m \u001b[0mreply\u001b[0m\u001b[0;34m:\u001b[0m\u001b[0;34m\u001b[0m\u001b[0;34m\u001b[0m\u001b[0m\n\u001b[0;32m--> 106\u001b[0;31m         \u001b[0;32mraise\u001b[0m \u001b[0mMessageError\u001b[0m\u001b[0;34m(\u001b[0m\u001b[0mreply\u001b[0m\u001b[0;34m[\u001b[0m\u001b[0;34m'error'\u001b[0m\u001b[0;34m]\u001b[0m\u001b[0;34m)\u001b[0m\u001b[0;34m\u001b[0m\u001b[0;34m\u001b[0m\u001b[0m\n\u001b[0m\u001b[1;32m    107\u001b[0m       \u001b[0;32mreturn\u001b[0m \u001b[0mreply\u001b[0m\u001b[0;34m.\u001b[0m\u001b[0mget\u001b[0m\u001b[0;34m(\u001b[0m\u001b[0;34m'data'\u001b[0m\u001b[0;34m,\u001b[0m \u001b[0;32mNone\u001b[0m\u001b[0;34m)\u001b[0m\u001b[0;34m\u001b[0m\u001b[0;34m\u001b[0m\u001b[0m\n\u001b[1;32m    108\u001b[0m \u001b[0;34m\u001b[0m\u001b[0m\n",
            "\u001b[0;31mMessageError\u001b[0m: TypeError: Cannot read property '_uploadFiles' of undefined"
          ]
        }
      ]
    },
    {
      "cell_type": "code",
      "metadata": {
        "id": "9MTHscQ0NPoq",
        "colab_type": "code",
        "colab": {}
      },
      "source": [
        "import io\n",
        "import pandas as pd\n",
        "df = pd.read_csv(io.BytesIO(uploaded['Churn_Modelling.csv']))"
      ],
      "execution_count": 0,
      "outputs": []
    },
    {
      "cell_type": "code",
      "metadata": {
        "id": "Qe-F-HU-NjTF",
        "colab_type": "code",
        "colab": {
          "base_uri": "https://localhost:8080/",
          "height": 363
        },
        "outputId": "9b7a5ef6-d399-4239-851c-e1a0c674f204"
      },
      "source": [
        "df.head(10)"
      ],
      "execution_count": 18,
      "outputs": [
        {
          "output_type": "execute_result",
          "data": {
            "text/html": [
              "<div>\n",
              "<style scoped>\n",
              "    .dataframe tbody tr th:only-of-type {\n",
              "        vertical-align: middle;\n",
              "    }\n",
              "\n",
              "    .dataframe tbody tr th {\n",
              "        vertical-align: top;\n",
              "    }\n",
              "\n",
              "    .dataframe thead th {\n",
              "        text-align: right;\n",
              "    }\n",
              "</style>\n",
              "<table border=\"1\" class=\"dataframe\">\n",
              "  <thead>\n",
              "    <tr style=\"text-align: right;\">\n",
              "      <th></th>\n",
              "      <th>RowNumber</th>\n",
              "      <th>CustomerId</th>\n",
              "      <th>Surname</th>\n",
              "      <th>CreditScore</th>\n",
              "      <th>Geography</th>\n",
              "      <th>Gender</th>\n",
              "      <th>Age</th>\n",
              "      <th>Tenure</th>\n",
              "      <th>Balance</th>\n",
              "      <th>NumOfProducts</th>\n",
              "      <th>HasCrCard</th>\n",
              "      <th>IsActiveMember</th>\n",
              "      <th>EstimatedSalary</th>\n",
              "      <th>Exited</th>\n",
              "    </tr>\n",
              "  </thead>\n",
              "  <tbody>\n",
              "    <tr>\n",
              "      <th>0</th>\n",
              "      <td>1</td>\n",
              "      <td>15634602</td>\n",
              "      <td>Hargrave</td>\n",
              "      <td>619</td>\n",
              "      <td>France</td>\n",
              "      <td>Female</td>\n",
              "      <td>42</td>\n",
              "      <td>2</td>\n",
              "      <td>0.00</td>\n",
              "      <td>1</td>\n",
              "      <td>1</td>\n",
              "      <td>1</td>\n",
              "      <td>101348.88</td>\n",
              "      <td>1</td>\n",
              "    </tr>\n",
              "    <tr>\n",
              "      <th>1</th>\n",
              "      <td>2</td>\n",
              "      <td>15647311</td>\n",
              "      <td>Hill</td>\n",
              "      <td>608</td>\n",
              "      <td>Spain</td>\n",
              "      <td>Female</td>\n",
              "      <td>41</td>\n",
              "      <td>1</td>\n",
              "      <td>83807.86</td>\n",
              "      <td>1</td>\n",
              "      <td>0</td>\n",
              "      <td>1</td>\n",
              "      <td>112542.58</td>\n",
              "      <td>0</td>\n",
              "    </tr>\n",
              "    <tr>\n",
              "      <th>2</th>\n",
              "      <td>3</td>\n",
              "      <td>15619304</td>\n",
              "      <td>Onio</td>\n",
              "      <td>502</td>\n",
              "      <td>France</td>\n",
              "      <td>Female</td>\n",
              "      <td>42</td>\n",
              "      <td>8</td>\n",
              "      <td>159660.80</td>\n",
              "      <td>3</td>\n",
              "      <td>1</td>\n",
              "      <td>0</td>\n",
              "      <td>113931.57</td>\n",
              "      <td>1</td>\n",
              "    </tr>\n",
              "    <tr>\n",
              "      <th>3</th>\n",
              "      <td>4</td>\n",
              "      <td>15701354</td>\n",
              "      <td>Boni</td>\n",
              "      <td>699</td>\n",
              "      <td>France</td>\n",
              "      <td>Female</td>\n",
              "      <td>39</td>\n",
              "      <td>1</td>\n",
              "      <td>0.00</td>\n",
              "      <td>2</td>\n",
              "      <td>0</td>\n",
              "      <td>0</td>\n",
              "      <td>93826.63</td>\n",
              "      <td>0</td>\n",
              "    </tr>\n",
              "    <tr>\n",
              "      <th>4</th>\n",
              "      <td>5</td>\n",
              "      <td>15737888</td>\n",
              "      <td>Mitchell</td>\n",
              "      <td>850</td>\n",
              "      <td>Spain</td>\n",
              "      <td>Female</td>\n",
              "      <td>43</td>\n",
              "      <td>2</td>\n",
              "      <td>125510.82</td>\n",
              "      <td>1</td>\n",
              "      <td>1</td>\n",
              "      <td>1</td>\n",
              "      <td>79084.10</td>\n",
              "      <td>0</td>\n",
              "    </tr>\n",
              "    <tr>\n",
              "      <th>5</th>\n",
              "      <td>6</td>\n",
              "      <td>15574012</td>\n",
              "      <td>Chu</td>\n",
              "      <td>645</td>\n",
              "      <td>Spain</td>\n",
              "      <td>Male</td>\n",
              "      <td>44</td>\n",
              "      <td>8</td>\n",
              "      <td>113755.78</td>\n",
              "      <td>2</td>\n",
              "      <td>1</td>\n",
              "      <td>0</td>\n",
              "      <td>149756.71</td>\n",
              "      <td>1</td>\n",
              "    </tr>\n",
              "    <tr>\n",
              "      <th>6</th>\n",
              "      <td>7</td>\n",
              "      <td>15592531</td>\n",
              "      <td>Bartlett</td>\n",
              "      <td>822</td>\n",
              "      <td>France</td>\n",
              "      <td>Male</td>\n",
              "      <td>50</td>\n",
              "      <td>7</td>\n",
              "      <td>0.00</td>\n",
              "      <td>2</td>\n",
              "      <td>1</td>\n",
              "      <td>1</td>\n",
              "      <td>10062.80</td>\n",
              "      <td>0</td>\n",
              "    </tr>\n",
              "    <tr>\n",
              "      <th>7</th>\n",
              "      <td>8</td>\n",
              "      <td>15656148</td>\n",
              "      <td>Obinna</td>\n",
              "      <td>376</td>\n",
              "      <td>Germany</td>\n",
              "      <td>Female</td>\n",
              "      <td>29</td>\n",
              "      <td>4</td>\n",
              "      <td>115046.74</td>\n",
              "      <td>4</td>\n",
              "      <td>1</td>\n",
              "      <td>0</td>\n",
              "      <td>119346.88</td>\n",
              "      <td>1</td>\n",
              "    </tr>\n",
              "    <tr>\n",
              "      <th>8</th>\n",
              "      <td>9</td>\n",
              "      <td>15792365</td>\n",
              "      <td>He</td>\n",
              "      <td>501</td>\n",
              "      <td>France</td>\n",
              "      <td>Male</td>\n",
              "      <td>44</td>\n",
              "      <td>4</td>\n",
              "      <td>142051.07</td>\n",
              "      <td>2</td>\n",
              "      <td>0</td>\n",
              "      <td>1</td>\n",
              "      <td>74940.50</td>\n",
              "      <td>0</td>\n",
              "    </tr>\n",
              "    <tr>\n",
              "      <th>9</th>\n",
              "      <td>10</td>\n",
              "      <td>15592389</td>\n",
              "      <td>H?</td>\n",
              "      <td>684</td>\n",
              "      <td>France</td>\n",
              "      <td>Male</td>\n",
              "      <td>27</td>\n",
              "      <td>2</td>\n",
              "      <td>134603.88</td>\n",
              "      <td>1</td>\n",
              "      <td>1</td>\n",
              "      <td>1</td>\n",
              "      <td>71725.73</td>\n",
              "      <td>0</td>\n",
              "    </tr>\n",
              "  </tbody>\n",
              "</table>\n",
              "</div>"
            ],
            "text/plain": [
              "   RowNumber  CustomerId   Surname  ...  IsActiveMember EstimatedSalary Exited\n",
              "0          1    15634602  Hargrave  ...               1       101348.88      1\n",
              "1          2    15647311      Hill  ...               1       112542.58      0\n",
              "2          3    15619304      Onio  ...               0       113931.57      1\n",
              "3          4    15701354      Boni  ...               0        93826.63      0\n",
              "4          5    15737888  Mitchell  ...               1        79084.10      0\n",
              "5          6    15574012       Chu  ...               0       149756.71      1\n",
              "6          7    15592531  Bartlett  ...               1        10062.80      0\n",
              "7          8    15656148    Obinna  ...               0       119346.88      1\n",
              "8          9    15792365        He  ...               1        74940.50      0\n",
              "9         10    15592389        H?  ...               1        71725.73      0\n",
              "\n",
              "[10 rows x 14 columns]"
            ]
          },
          "metadata": {
            "tags": []
          },
          "execution_count": 18
        }
      ]
    },
    {
      "cell_type": "code",
      "metadata": {
        "id": "h1DfDLaQNort",
        "colab_type": "code",
        "colab": {}
      },
      "source": [
        "import numpy as np\n",
        "\n",
        "# Importing the dataset\n",
        "X = df.iloc[:, 3:13]\n",
        "y = df.iloc[:, 13]"
      ],
      "execution_count": 0,
      "outputs": []
    },
    {
      "cell_type": "code",
      "metadata": {
        "id": "NAcZSivVTvdv",
        "colab_type": "code",
        "colab": {
          "base_uri": "https://localhost:8080/",
          "height": 215
        },
        "outputId": "e88ea57d-ff2b-4724-86c8-4ba239d2a5da"
      },
      "source": [
        "X.head()"
      ],
      "execution_count": 49,
      "outputs": [
        {
          "output_type": "execute_result",
          "data": {
            "text/html": [
              "<div>\n",
              "<style scoped>\n",
              "    .dataframe tbody tr th:only-of-type {\n",
              "        vertical-align: middle;\n",
              "    }\n",
              "\n",
              "    .dataframe tbody tr th {\n",
              "        vertical-align: top;\n",
              "    }\n",
              "\n",
              "    .dataframe thead th {\n",
              "        text-align: right;\n",
              "    }\n",
              "</style>\n",
              "<table border=\"1\" class=\"dataframe\">\n",
              "  <thead>\n",
              "    <tr style=\"text-align: right;\">\n",
              "      <th></th>\n",
              "      <th>CreditScore</th>\n",
              "      <th>Geography</th>\n",
              "      <th>Gender</th>\n",
              "      <th>Age</th>\n",
              "      <th>Tenure</th>\n",
              "      <th>Balance</th>\n",
              "      <th>NumOfProducts</th>\n",
              "      <th>HasCrCard</th>\n",
              "      <th>IsActiveMember</th>\n",
              "      <th>EstimatedSalary</th>\n",
              "    </tr>\n",
              "  </thead>\n",
              "  <tbody>\n",
              "    <tr>\n",
              "      <th>0</th>\n",
              "      <td>619</td>\n",
              "      <td>France</td>\n",
              "      <td>Female</td>\n",
              "      <td>42</td>\n",
              "      <td>2</td>\n",
              "      <td>0.00</td>\n",
              "      <td>1</td>\n",
              "      <td>1</td>\n",
              "      <td>1</td>\n",
              "      <td>101348.88</td>\n",
              "    </tr>\n",
              "    <tr>\n",
              "      <th>1</th>\n",
              "      <td>608</td>\n",
              "      <td>Spain</td>\n",
              "      <td>Female</td>\n",
              "      <td>41</td>\n",
              "      <td>1</td>\n",
              "      <td>83807.86</td>\n",
              "      <td>1</td>\n",
              "      <td>0</td>\n",
              "      <td>1</td>\n",
              "      <td>112542.58</td>\n",
              "    </tr>\n",
              "    <tr>\n",
              "      <th>2</th>\n",
              "      <td>502</td>\n",
              "      <td>France</td>\n",
              "      <td>Female</td>\n",
              "      <td>42</td>\n",
              "      <td>8</td>\n",
              "      <td>159660.80</td>\n",
              "      <td>3</td>\n",
              "      <td>1</td>\n",
              "      <td>0</td>\n",
              "      <td>113931.57</td>\n",
              "    </tr>\n",
              "    <tr>\n",
              "      <th>3</th>\n",
              "      <td>699</td>\n",
              "      <td>France</td>\n",
              "      <td>Female</td>\n",
              "      <td>39</td>\n",
              "      <td>1</td>\n",
              "      <td>0.00</td>\n",
              "      <td>2</td>\n",
              "      <td>0</td>\n",
              "      <td>0</td>\n",
              "      <td>93826.63</td>\n",
              "    </tr>\n",
              "    <tr>\n",
              "      <th>4</th>\n",
              "      <td>850</td>\n",
              "      <td>Spain</td>\n",
              "      <td>Female</td>\n",
              "      <td>43</td>\n",
              "      <td>2</td>\n",
              "      <td>125510.82</td>\n",
              "      <td>1</td>\n",
              "      <td>1</td>\n",
              "      <td>1</td>\n",
              "      <td>79084.10</td>\n",
              "    </tr>\n",
              "  </tbody>\n",
              "</table>\n",
              "</div>"
            ],
            "text/plain": [
              "   CreditScore Geography  Gender  ...  HasCrCard  IsActiveMember  EstimatedSalary\n",
              "0          619    France  Female  ...          1               1        101348.88\n",
              "1          608     Spain  Female  ...          0               1        112542.58\n",
              "2          502    France  Female  ...          1               0        113931.57\n",
              "3          699    France  Female  ...          0               0         93826.63\n",
              "4          850     Spain  Female  ...          1               1         79084.10\n",
              "\n",
              "[5 rows x 10 columns]"
            ]
          },
          "metadata": {
            "tags": []
          },
          "execution_count": 49
        }
      ]
    },
    {
      "cell_type": "code",
      "metadata": {
        "id": "zfLpAKhWTWwZ",
        "colab_type": "code",
        "colab": {}
      },
      "source": [
        "# Encoding categorical data\n",
        "from sklearn.preprocessing import LabelEncoder, OneHotEncoder\n",
        "from sklearn.compose import ColumnTransformer\n",
        "\n",
        "\n",
        "ct = ColumnTransformer([('Geography', OneHotEncoder(), [1] )], \n",
        "                       remainder = 'passthrough')\n",
        "\n",
        "X = ct.fit_transform(X)\n",
        "labelencoder_X_2 = LabelEncoder()\n",
        "X[:, 4] = labelencoder_X_2.fit_transform(X[:, 4])\n",
        "\n",
        "X = X[:,1:]"
      ],
      "execution_count": 0,
      "outputs": []
    },
    {
      "cell_type": "code",
      "metadata": {
        "id": "SZBjXTztPTp6",
        "colab_type": "code",
        "colab": {}
      },
      "source": [
        "from sklearn.preprocessing import StandardScaler\n",
        "sc = StandardScaler()\n",
        "X = sc.fit_transform(X)\n",
        "\n",
        "from sklearn.model_selection import train_test_split\n",
        "X_train, X_test, y_train, y_test = train_test_split(X, y, test_size = 0.2)"
      ],
      "execution_count": 0,
      "outputs": []
    },
    {
      "cell_type": "code",
      "metadata": {
        "id": "dEgeIQOmZZQ9",
        "colab_type": "code",
        "colab": {
          "base_uri": "https://localhost:8080/",
          "height": 34
        },
        "outputId": "7e82a909-c21a-4d02-ea0f-1410484f7810"
      },
      "source": [
        "X_train.shape"
      ],
      "execution_count": 53,
      "outputs": [
        {
          "output_type": "execute_result",
          "data": {
            "text/plain": [
              "(8000, 11)"
            ]
          },
          "metadata": {
            "tags": []
          },
          "execution_count": 53
        }
      ]
    },
    {
      "cell_type": "code",
      "metadata": {
        "id": "kVuU7-D6ZbWv",
        "colab_type": "code",
        "colab": {
          "base_uri": "https://localhost:8080/",
          "height": 34
        },
        "outputId": "4cef02a0-000e-4c6d-94c4-ab737a167f98"
      },
      "source": [
        "y_train.shape"
      ],
      "execution_count": 54,
      "outputs": [
        {
          "output_type": "execute_result",
          "data": {
            "text/plain": [
              "(8000,)"
            ]
          },
          "metadata": {
            "tags": []
          },
          "execution_count": 54
        }
      ]
    },
    {
      "cell_type": "code",
      "metadata": {
        "id": "57A76ou3Zeth",
        "colab_type": "code",
        "colab": {
          "base_uri": "https://localhost:8080/",
          "height": 154
        },
        "outputId": "207fd302-c4c6-41f4-b0a1-6b42b67a8a96"
      },
      "source": [
        "from keras.models import Sequential\n",
        "from keras.layers import Dense\n",
        "\n",
        "classifier = Sequential()\n",
        "\n",
        "classifier.add(Dense(units = 6, activation = 'relu', input_dim=11))\n",
        "classifier.add(Dense(units = 6, activation = 'relu'))\n",
        "classifier.add(Dense(units = 1, activation = 'sigmoid'))\n",
        "\n",
        "classifier.compile(optimizer = 'adam', loss = 'binary_crossentropy', \n",
        "                   metrics = ['accuracy'])"
      ],
      "execution_count": 58,
      "outputs": [
        {
          "output_type": "stream",
          "text": [
            "WARNING:tensorflow:From /usr/local/lib/python3.6/dist-packages/keras/optimizers.py:793: The name tf.train.Optimizer is deprecated. Please use tf.compat.v1.train.Optimizer instead.\n",
            "\n",
            "WARNING:tensorflow:From /usr/local/lib/python3.6/dist-packages/keras/backend/tensorflow_backend.py:3657: The name tf.log is deprecated. Please use tf.math.log instead.\n",
            "\n",
            "WARNING:tensorflow:From /usr/local/lib/python3.6/dist-packages/tensorflow_core/python/ops/nn_impl.py:183: where (from tensorflow.python.ops.array_ops) is deprecated and will be removed in a future version.\n",
            "Instructions for updating:\n",
            "Use tf.where in 2.0, which has the same broadcast rule as np.where\n"
          ],
          "name": "stdout"
        }
      ]
    },
    {
      "cell_type": "code",
      "metadata": {
        "id": "NJwOTypyZy0A",
        "colab_type": "code",
        "colab": {
          "base_uri": "https://localhost:8080/",
          "height": 1000
        },
        "outputId": "c54c125d-7be0-49e2-9aea-b521178b72d9"
      },
      "source": [
        "classifier.fit(X_train, y_train, batch_size = 10, epochs =100)"
      ],
      "execution_count": 59,
      "outputs": [
        {
          "output_type": "stream",
          "text": [
            "WARNING:tensorflow:From /usr/local/lib/python3.6/dist-packages/keras/backend/tensorflow_backend.py:1033: The name tf.assign_add is deprecated. Please use tf.compat.v1.assign_add instead.\n",
            "\n",
            "WARNING:tensorflow:From /usr/local/lib/python3.6/dist-packages/keras/backend/tensorflow_backend.py:1020: The name tf.assign is deprecated. Please use tf.compat.v1.assign instead.\n",
            "\n",
            "WARNING:tensorflow:From /usr/local/lib/python3.6/dist-packages/keras/backend/tensorflow_backend.py:3005: The name tf.Session is deprecated. Please use tf.compat.v1.Session instead.\n",
            "\n",
            "Epoch 1/100\n",
            "WARNING:tensorflow:From /usr/local/lib/python3.6/dist-packages/keras/backend/tensorflow_backend.py:190: The name tf.get_default_session is deprecated. Please use tf.compat.v1.get_default_session instead.\n",
            "\n",
            "WARNING:tensorflow:From /usr/local/lib/python3.6/dist-packages/keras/backend/tensorflow_backend.py:197: The name tf.ConfigProto is deprecated. Please use tf.compat.v1.ConfigProto instead.\n",
            "\n",
            "WARNING:tensorflow:From /usr/local/lib/python3.6/dist-packages/keras/backend/tensorflow_backend.py:207: The name tf.global_variables is deprecated. Please use tf.compat.v1.global_variables instead.\n",
            "\n",
            "WARNING:tensorflow:From /usr/local/lib/python3.6/dist-packages/keras/backend/tensorflow_backend.py:216: The name tf.is_variable_initialized is deprecated. Please use tf.compat.v1.is_variable_initialized instead.\n",
            "\n",
            "WARNING:tensorflow:From /usr/local/lib/python3.6/dist-packages/keras/backend/tensorflow_backend.py:223: The name tf.variables_initializer is deprecated. Please use tf.compat.v1.variables_initializer instead.\n",
            "\n",
            "8000/8000 [==============================] - 2s 218us/step - loss: 0.5727 - acc: 0.7159\n",
            "Epoch 2/100\n",
            "8000/8000 [==============================] - 1s 123us/step - loss: 0.4252 - acc: 0.8249\n",
            "Epoch 3/100\n",
            "8000/8000 [==============================] - 1s 129us/step - loss: 0.3804 - acc: 0.8455\n",
            "Epoch 4/100\n",
            "8000/8000 [==============================] - 1s 124us/step - loss: 0.3634 - acc: 0.8501\n",
            "Epoch 5/100\n",
            "8000/8000 [==============================] - 1s 126us/step - loss: 0.3550 - acc: 0.8537\n",
            "Epoch 6/100\n",
            "8000/8000 [==============================] - 1s 127us/step - loss: 0.3505 - acc: 0.8565\n",
            "Epoch 7/100\n",
            "8000/8000 [==============================] - 1s 132us/step - loss: 0.3469 - acc: 0.8572\n",
            "Epoch 8/100\n",
            "8000/8000 [==============================] - 1s 134us/step - loss: 0.3441 - acc: 0.8596\n",
            "Epoch 9/100\n",
            "8000/8000 [==============================] - 1s 131us/step - loss: 0.3411 - acc: 0.8615\n",
            "Epoch 10/100\n",
            "8000/8000 [==============================] - 1s 130us/step - loss: 0.3397 - acc: 0.8621\n",
            "Epoch 11/100\n",
            "8000/8000 [==============================] - 1s 126us/step - loss: 0.3375 - acc: 0.8625\n",
            "Epoch 12/100\n",
            "8000/8000 [==============================] - 1s 127us/step - loss: 0.3369 - acc: 0.8626\n",
            "Epoch 13/100\n",
            "8000/8000 [==============================] - 1s 132us/step - loss: 0.3358 - acc: 0.8632\n",
            "Epoch 14/100\n",
            "8000/8000 [==============================] - 1s 131us/step - loss: 0.3352 - acc: 0.8640\n",
            "Epoch 15/100\n",
            "8000/8000 [==============================] - 1s 132us/step - loss: 0.3345 - acc: 0.8637\n",
            "Epoch 16/100\n",
            "8000/8000 [==============================] - 1s 130us/step - loss: 0.3337 - acc: 0.8640\n",
            "Epoch 17/100\n",
            "8000/8000 [==============================] - 1s 129us/step - loss: 0.3331 - acc: 0.8651\n",
            "Epoch 18/100\n",
            "8000/8000 [==============================] - 1s 127us/step - loss: 0.3330 - acc: 0.8657\n",
            "Epoch 19/100\n",
            "8000/8000 [==============================] - 1s 128us/step - loss: 0.3326 - acc: 0.8641\n",
            "Epoch 20/100\n",
            "8000/8000 [==============================] - 1s 130us/step - loss: 0.3319 - acc: 0.8637\n",
            "Epoch 21/100\n",
            "8000/8000 [==============================] - 1s 130us/step - loss: 0.3315 - acc: 0.8654\n",
            "Epoch 22/100\n",
            "8000/8000 [==============================] - 1s 132us/step - loss: 0.3309 - acc: 0.8651\n",
            "Epoch 23/100\n",
            "8000/8000 [==============================] - 1s 131us/step - loss: 0.3305 - acc: 0.8649\n",
            "Epoch 24/100\n",
            "8000/8000 [==============================] - 1s 137us/step - loss: 0.3302 - acc: 0.8645\n",
            "Epoch 25/100\n",
            "8000/8000 [==============================] - 1s 130us/step - loss: 0.3300 - acc: 0.8660\n",
            "Epoch 26/100\n",
            "8000/8000 [==============================] - 1s 130us/step - loss: 0.3298 - acc: 0.8659\n",
            "Epoch 27/100\n",
            "8000/8000 [==============================] - 1s 129us/step - loss: 0.3297 - acc: 0.8669\n",
            "Epoch 28/100\n",
            "8000/8000 [==============================] - 1s 132us/step - loss: 0.3291 - acc: 0.8652\n",
            "Epoch 29/100\n",
            "8000/8000 [==============================] - 1s 129us/step - loss: 0.3292 - acc: 0.8671\n",
            "Epoch 30/100\n",
            "8000/8000 [==============================] - 1s 133us/step - loss: 0.3289 - acc: 0.8662\n",
            "Epoch 31/100\n",
            "8000/8000 [==============================] - 1s 131us/step - loss: 0.3282 - acc: 0.8667\n",
            "Epoch 32/100\n",
            "8000/8000 [==============================] - 1s 131us/step - loss: 0.3285 - acc: 0.8677\n",
            "Epoch 33/100\n",
            "8000/8000 [==============================] - 1s 128us/step - loss: 0.3284 - acc: 0.8650\n",
            "Epoch 34/100\n",
            "8000/8000 [==============================] - 1s 132us/step - loss: 0.3284 - acc: 0.8656\n",
            "Epoch 35/100\n",
            "8000/8000 [==============================] - 1s 131us/step - loss: 0.3277 - acc: 0.8650\n",
            "Epoch 36/100\n",
            "8000/8000 [==============================] - 1s 132us/step - loss: 0.3280 - acc: 0.8666\n",
            "Epoch 37/100\n",
            "8000/8000 [==============================] - 1s 131us/step - loss: 0.3273 - acc: 0.8657\n",
            "Epoch 38/100\n",
            "8000/8000 [==============================] - 1s 130us/step - loss: 0.3276 - acc: 0.8664\n",
            "Epoch 39/100\n",
            "8000/8000 [==============================] - 1s 128us/step - loss: 0.3269 - acc: 0.8661\n",
            "Epoch 40/100\n",
            "8000/8000 [==============================] - 1s 127us/step - loss: 0.3269 - acc: 0.8682\n",
            "Epoch 41/100\n",
            "8000/8000 [==============================] - 1s 127us/step - loss: 0.3271 - acc: 0.8650\n",
            "Epoch 42/100\n",
            "8000/8000 [==============================] - 1s 129us/step - loss: 0.3274 - acc: 0.8670\n",
            "Epoch 43/100\n",
            "8000/8000 [==============================] - 1s 128us/step - loss: 0.3269 - acc: 0.8671\n",
            "Epoch 44/100\n",
            "8000/8000 [==============================] - 1s 132us/step - loss: 0.3264 - acc: 0.8652\n",
            "Epoch 45/100\n",
            "8000/8000 [==============================] - 1s 127us/step - loss: 0.3267 - acc: 0.8659\n",
            "Epoch 46/100\n",
            "8000/8000 [==============================] - 1s 128us/step - loss: 0.3270 - acc: 0.8667\n",
            "Epoch 47/100\n",
            "8000/8000 [==============================] - 1s 130us/step - loss: 0.3262 - acc: 0.8665\n",
            "Epoch 48/100\n",
            "8000/8000 [==============================] - 1s 128us/step - loss: 0.3261 - acc: 0.8664\n",
            "Epoch 49/100\n",
            "8000/8000 [==============================] - 1s 129us/step - loss: 0.3262 - acc: 0.8667\n",
            "Epoch 50/100\n",
            "8000/8000 [==============================] - 1s 135us/step - loss: 0.3262 - acc: 0.8672\n",
            "Epoch 51/100\n",
            "8000/8000 [==============================] - 1s 130us/step - loss: 0.3259 - acc: 0.8662\n",
            "Epoch 52/100\n",
            "8000/8000 [==============================] - 1s 128us/step - loss: 0.3255 - acc: 0.8667\n",
            "Epoch 53/100\n",
            "8000/8000 [==============================] - 1s 129us/step - loss: 0.3261 - acc: 0.8659\n",
            "Epoch 54/100\n",
            "8000/8000 [==============================] - 1s 130us/step - loss: 0.3258 - acc: 0.8666\n",
            "Epoch 55/100\n",
            "8000/8000 [==============================] - 1s 131us/step - loss: 0.3257 - acc: 0.8651\n",
            "Epoch 56/100\n",
            "8000/8000 [==============================] - 1s 128us/step - loss: 0.3255 - acc: 0.8677\n",
            "Epoch 57/100\n",
            "8000/8000 [==============================] - 1s 128us/step - loss: 0.3253 - acc: 0.8669\n",
            "Epoch 58/100\n",
            "8000/8000 [==============================] - 1s 127us/step - loss: 0.3251 - acc: 0.8660\n",
            "Epoch 59/100\n",
            "8000/8000 [==============================] - 1s 135us/step - loss: 0.3251 - acc: 0.8680\n",
            "Epoch 60/100\n",
            "8000/8000 [==============================] - 1s 133us/step - loss: 0.3253 - acc: 0.8662\n",
            "Epoch 61/100\n",
            "8000/8000 [==============================] - 1s 131us/step - loss: 0.3248 - acc: 0.8689\n",
            "Epoch 62/100\n",
            "8000/8000 [==============================] - 1s 130us/step - loss: 0.3248 - acc: 0.8672\n",
            "Epoch 63/100\n",
            "8000/8000 [==============================] - 1s 130us/step - loss: 0.3247 - acc: 0.8665\n",
            "Epoch 64/100\n",
            "8000/8000 [==============================] - 1s 130us/step - loss: 0.3247 - acc: 0.8684\n",
            "Epoch 65/100\n",
            "8000/8000 [==============================] - 1s 134us/step - loss: 0.3245 - acc: 0.8669\n",
            "Epoch 66/100\n",
            "8000/8000 [==============================] - 1s 126us/step - loss: 0.3248 - acc: 0.8677\n",
            "Epoch 67/100\n",
            "8000/8000 [==============================] - 1s 129us/step - loss: 0.3241 - acc: 0.8669\n",
            "Epoch 68/100\n",
            "8000/8000 [==============================] - 1s 128us/step - loss: 0.3247 - acc: 0.8692\n",
            "Epoch 69/100\n",
            "8000/8000 [==============================] - 1s 128us/step - loss: 0.3243 - acc: 0.8667\n",
            "Epoch 70/100\n",
            "8000/8000 [==============================] - 1s 128us/step - loss: 0.3243 - acc: 0.8679\n",
            "Epoch 71/100\n",
            "8000/8000 [==============================] - 1s 129us/step - loss: 0.3243 - acc: 0.8681\n",
            "Epoch 72/100\n",
            "8000/8000 [==============================] - 1s 131us/step - loss: 0.3241 - acc: 0.8686\n",
            "Epoch 73/100\n",
            "8000/8000 [==============================] - 1s 131us/step - loss: 0.3245 - acc: 0.8657\n",
            "Epoch 74/100\n",
            "8000/8000 [==============================] - 1s 128us/step - loss: 0.3237 - acc: 0.8691\n",
            "Epoch 75/100\n",
            "8000/8000 [==============================] - 1s 132us/step - loss: 0.3243 - acc: 0.8665\n",
            "Epoch 76/100\n",
            "8000/8000 [==============================] - 1s 131us/step - loss: 0.3243 - acc: 0.8669\n",
            "Epoch 77/100\n",
            "8000/8000 [==============================] - 1s 126us/step - loss: 0.3240 - acc: 0.8667\n",
            "Epoch 78/100\n",
            "8000/8000 [==============================] - 1s 129us/step - loss: 0.3241 - acc: 0.8689\n",
            "Epoch 79/100\n",
            "8000/8000 [==============================] - 1s 130us/step - loss: 0.3238 - acc: 0.8672\n",
            "Epoch 80/100\n",
            "8000/8000 [==============================] - 1s 132us/step - loss: 0.3240 - acc: 0.8675\n",
            "Epoch 81/100\n",
            "8000/8000 [==============================] - 1s 132us/step - loss: 0.3235 - acc: 0.8686\n",
            "Epoch 82/100\n",
            "8000/8000 [==============================] - 1s 132us/step - loss: 0.3241 - acc: 0.8670\n",
            "Epoch 83/100\n",
            "8000/8000 [==============================] - 1s 130us/step - loss: 0.3239 - acc: 0.8664\n",
            "Epoch 84/100\n",
            "8000/8000 [==============================] - 1s 134us/step - loss: 0.3235 - acc: 0.8670\n",
            "Epoch 85/100\n",
            "8000/8000 [==============================] - 1s 129us/step - loss: 0.3233 - acc: 0.8682\n",
            "Epoch 86/100\n",
            "8000/8000 [==============================] - 1s 129us/step - loss: 0.3233 - acc: 0.8661\n",
            "Epoch 87/100\n",
            "8000/8000 [==============================] - 1s 126us/step - loss: 0.3237 - acc: 0.8671\n",
            "Epoch 88/100\n",
            "8000/8000 [==============================] - 1s 129us/step - loss: 0.3233 - acc: 0.8661\n",
            "Epoch 89/100\n",
            "8000/8000 [==============================] - 1s 130us/step - loss: 0.3239 - acc: 0.8669\n",
            "Epoch 90/100\n",
            "8000/8000 [==============================] - 1s 131us/step - loss: 0.3237 - acc: 0.8657\n",
            "Epoch 91/100\n",
            "8000/8000 [==============================] - 1s 127us/step - loss: 0.3236 - acc: 0.8684\n",
            "Epoch 92/100\n",
            "8000/8000 [==============================] - 1s 129us/step - loss: 0.3233 - acc: 0.8680\n",
            "Epoch 93/100\n",
            "8000/8000 [==============================] - 1s 129us/step - loss: 0.3238 - acc: 0.8670\n",
            "Epoch 94/100\n",
            "8000/8000 [==============================] - 1s 128us/step - loss: 0.3231 - acc: 0.8672\n",
            "Epoch 95/100\n",
            "8000/8000 [==============================] - 1s 128us/step - loss: 0.3227 - acc: 0.8675\n",
            "Epoch 96/100\n",
            "8000/8000 [==============================] - 1s 135us/step - loss: 0.3234 - acc: 0.8690\n",
            "Epoch 97/100\n",
            "8000/8000 [==============================] - 1s 128us/step - loss: 0.3231 - acc: 0.8681\n",
            "Epoch 98/100\n",
            "8000/8000 [==============================] - 1s 129us/step - loss: 0.3229 - acc: 0.8671\n",
            "Epoch 99/100\n",
            "8000/8000 [==============================] - 1s 128us/step - loss: 0.3228 - acc: 0.8672\n",
            "Epoch 100/100\n",
            "8000/8000 [==============================] - 1s 127us/step - loss: 0.3231 - acc: 0.8679\n"
          ],
          "name": "stdout"
        },
        {
          "output_type": "execute_result",
          "data": {
            "text/plain": [
              "<keras.callbacks.History at 0x7f3908cc79e8>"
            ]
          },
          "metadata": {
            "tags": []
          },
          "execution_count": 59
        }
      ]
    },
    {
      "cell_type": "code",
      "metadata": {
        "id": "nE23amUUb4De",
        "colab_type": "code",
        "colab": {}
      },
      "source": [
        "ypred = classifier.predict(X_test)"
      ],
      "execution_count": 0,
      "outputs": []
    },
    {
      "cell_type": "code",
      "metadata": {
        "id": "PwnPHG1edw87",
        "colab_type": "code",
        "colab": {}
      },
      "source": [
        "ypred = ypred>0.5"
      ],
      "execution_count": 0,
      "outputs": []
    },
    {
      "cell_type": "code",
      "metadata": {
        "id": "Frb7CPL-d9_w",
        "colab_type": "code",
        "colab": {
          "base_uri": "https://localhost:8080/",
          "height": 50
        },
        "outputId": "19465777-9228-4b69-a83f-5d96c71a4ff7"
      },
      "source": [
        "from sklearn.metrics import confusion_matrix, classification_report\n",
        "confusion_matrix(y_test, ypred)"
      ],
      "execution_count": 64,
      "outputs": [
        {
          "output_type": "execute_result",
          "data": {
            "text/plain": [
              "array([[1522,   72],\n",
              "       [ 226,  180]])"
            ]
          },
          "metadata": {
            "tags": []
          },
          "execution_count": 64
        }
      ]
    },
    {
      "cell_type": "code",
      "metadata": {
        "id": "cESnFmyVeGgo",
        "colab_type": "code",
        "colab": {}
      },
      "source": [
        ""
      ],
      "execution_count": 0,
      "outputs": []
    }
  ]
}