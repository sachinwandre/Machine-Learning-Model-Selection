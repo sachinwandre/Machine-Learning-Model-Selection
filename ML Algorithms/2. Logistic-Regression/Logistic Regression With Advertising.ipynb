{
 "cells": [
  {
   "cell_type": "code",
   "execution_count": 26,
   "id": "e468f781",
   "metadata": {},
   "outputs": [],
   "source": [
    "import pandas as pd\n",
    "import numpy as np\n",
    "import matplotlib.pyplot as plt\n",
    "import seaborn as sns\n",
    "from sklearn.model_selection import train_test_split \n",
    "from sklearn.metrics import classification_report,confusion_matrix,accuracy_score\n",
    "from sklearn.linear_model import LogisticRegression\n",
    "%matplotlib inline"
   ]
  },
  {
   "cell_type": "code",
   "execution_count": 2,
   "id": "cd8ae1bf",
   "metadata": {},
   "outputs": [
    {
     "data": {
      "text/html": [
       "<div>\n",
       "<style scoped>\n",
       "    .dataframe tbody tr th:only-of-type {\n",
       "        vertical-align: middle;\n",
       "    }\n",
       "\n",
       "    .dataframe tbody tr th {\n",
       "        vertical-align: top;\n",
       "    }\n",
       "\n",
       "    .dataframe thead th {\n",
       "        text-align: right;\n",
       "    }\n",
       "</style>\n",
       "<table border=\"1\" class=\"dataframe\">\n",
       "  <thead>\n",
       "    <tr style=\"text-align: right;\">\n",
       "      <th></th>\n",
       "      <th>Daily Time Spent on Site</th>\n",
       "      <th>Age</th>\n",
       "      <th>Area Income</th>\n",
       "      <th>Daily Internet Usage</th>\n",
       "      <th>Ad Topic Line</th>\n",
       "      <th>City</th>\n",
       "      <th>Male</th>\n",
       "      <th>Country</th>\n",
       "      <th>Timestamp</th>\n",
       "      <th>Clicked on Ad</th>\n",
       "    </tr>\n",
       "  </thead>\n",
       "  <tbody>\n",
       "    <tr>\n",
       "      <th>0</th>\n",
       "      <td>68.95</td>\n",
       "      <td>35</td>\n",
       "      <td>61833.90</td>\n",
       "      <td>256.09</td>\n",
       "      <td>Cloned 5thgeneration orchestration</td>\n",
       "      <td>Wrightburgh</td>\n",
       "      <td>0</td>\n",
       "      <td>Tunisia</td>\n",
       "      <td>2016-03-27 00:53:11</td>\n",
       "      <td>0</td>\n",
       "    </tr>\n",
       "    <tr>\n",
       "      <th>1</th>\n",
       "      <td>80.23</td>\n",
       "      <td>31</td>\n",
       "      <td>68441.85</td>\n",
       "      <td>193.77</td>\n",
       "      <td>Monitored national standardization</td>\n",
       "      <td>West Jodi</td>\n",
       "      <td>1</td>\n",
       "      <td>Nauru</td>\n",
       "      <td>2016-04-04 01:39:02</td>\n",
       "      <td>0</td>\n",
       "    </tr>\n",
       "    <tr>\n",
       "      <th>2</th>\n",
       "      <td>69.47</td>\n",
       "      <td>26</td>\n",
       "      <td>59785.94</td>\n",
       "      <td>236.50</td>\n",
       "      <td>Organic bottom-line service-desk</td>\n",
       "      <td>Davidton</td>\n",
       "      <td>0</td>\n",
       "      <td>San Marino</td>\n",
       "      <td>2016-03-13 20:35:42</td>\n",
       "      <td>0</td>\n",
       "    </tr>\n",
       "    <tr>\n",
       "      <th>3</th>\n",
       "      <td>74.15</td>\n",
       "      <td>29</td>\n",
       "      <td>54806.18</td>\n",
       "      <td>245.89</td>\n",
       "      <td>Triple-buffered reciprocal time-frame</td>\n",
       "      <td>West Terrifurt</td>\n",
       "      <td>1</td>\n",
       "      <td>Italy</td>\n",
       "      <td>2016-01-10 02:31:19</td>\n",
       "      <td>0</td>\n",
       "    </tr>\n",
       "    <tr>\n",
       "      <th>4</th>\n",
       "      <td>68.37</td>\n",
       "      <td>35</td>\n",
       "      <td>73889.99</td>\n",
       "      <td>225.58</td>\n",
       "      <td>Robust logistical utilization</td>\n",
       "      <td>South Manuel</td>\n",
       "      <td>0</td>\n",
       "      <td>Iceland</td>\n",
       "      <td>2016-06-03 03:36:18</td>\n",
       "      <td>0</td>\n",
       "    </tr>\n",
       "  </tbody>\n",
       "</table>\n",
       "</div>"
      ],
      "text/plain": [
       "   Daily Time Spent on Site  Age  Area Income  Daily Internet Usage  \\\n",
       "0                     68.95   35     61833.90                256.09   \n",
       "1                     80.23   31     68441.85                193.77   \n",
       "2                     69.47   26     59785.94                236.50   \n",
       "3                     74.15   29     54806.18                245.89   \n",
       "4                     68.37   35     73889.99                225.58   \n",
       "\n",
       "                           Ad Topic Line            City  Male     Country  \\\n",
       "0     Cloned 5thgeneration orchestration     Wrightburgh     0     Tunisia   \n",
       "1     Monitored national standardization       West Jodi     1       Nauru   \n",
       "2       Organic bottom-line service-desk        Davidton     0  San Marino   \n",
       "3  Triple-buffered reciprocal time-frame  West Terrifurt     1       Italy   \n",
       "4          Robust logistical utilization    South Manuel     0     Iceland   \n",
       "\n",
       "             Timestamp  Clicked on Ad  \n",
       "0  2016-03-27 00:53:11              0  \n",
       "1  2016-04-04 01:39:02              0  \n",
       "2  2016-03-13 20:35:42              0  \n",
       "3  2016-01-10 02:31:19              0  \n",
       "4  2016-06-03 03:36:18              0  "
      ]
     },
     "execution_count": 2,
     "metadata": {},
     "output_type": "execute_result"
    }
   ],
   "source": [
    "adv_data = pd.read_csv('advertising.csv')\n",
    "adv_data.head()"
   ]
  },
  {
   "cell_type": "code",
   "execution_count": 3,
   "id": "e91b70e7",
   "metadata": {},
   "outputs": [
    {
     "name": "stdout",
     "output_type": "stream",
     "text": [
      "<class 'pandas.core.frame.DataFrame'>\n",
      "RangeIndex: 1000 entries, 0 to 999\n",
      "Data columns (total 10 columns):\n",
      " #   Column                    Non-Null Count  Dtype  \n",
      "---  ------                    --------------  -----  \n",
      " 0   Daily Time Spent on Site  1000 non-null   float64\n",
      " 1   Age                       1000 non-null   int64  \n",
      " 2   Area Income               1000 non-null   float64\n",
      " 3   Daily Internet Usage      1000 non-null   float64\n",
      " 4   Ad Topic Line             1000 non-null   object \n",
      " 5   City                      1000 non-null   object \n",
      " 6   Male                      1000 non-null   int64  \n",
      " 7   Country                   1000 non-null   object \n",
      " 8   Timestamp                 1000 non-null   object \n",
      " 9   Clicked on Ad             1000 non-null   int64  \n",
      "dtypes: float64(3), int64(3), object(4)\n",
      "memory usage: 78.2+ KB\n"
     ]
    }
   ],
   "source": [
    "adv_data.info()"
   ]
  },
  {
   "cell_type": "code",
   "execution_count": 4,
   "id": "24009830",
   "metadata": {},
   "outputs": [
    {
     "data": {
      "text/html": [
       "<div>\n",
       "<style scoped>\n",
       "    .dataframe tbody tr th:only-of-type {\n",
       "        vertical-align: middle;\n",
       "    }\n",
       "\n",
       "    .dataframe tbody tr th {\n",
       "        vertical-align: top;\n",
       "    }\n",
       "\n",
       "    .dataframe thead th {\n",
       "        text-align: right;\n",
       "    }\n",
       "</style>\n",
       "<table border=\"1\" class=\"dataframe\">\n",
       "  <thead>\n",
       "    <tr style=\"text-align: right;\">\n",
       "      <th></th>\n",
       "      <th>Daily Time Spent on Site</th>\n",
       "      <th>Age</th>\n",
       "      <th>Area Income</th>\n",
       "      <th>Daily Internet Usage</th>\n",
       "      <th>Male</th>\n",
       "      <th>Clicked on Ad</th>\n",
       "    </tr>\n",
       "  </thead>\n",
       "  <tbody>\n",
       "    <tr>\n",
       "      <th>count</th>\n",
       "      <td>1000.000000</td>\n",
       "      <td>1000.000000</td>\n",
       "      <td>1000.000000</td>\n",
       "      <td>1000.000000</td>\n",
       "      <td>1000.000000</td>\n",
       "      <td>1000.00000</td>\n",
       "    </tr>\n",
       "    <tr>\n",
       "      <th>mean</th>\n",
       "      <td>65.000200</td>\n",
       "      <td>36.009000</td>\n",
       "      <td>55000.000080</td>\n",
       "      <td>180.000100</td>\n",
       "      <td>0.481000</td>\n",
       "      <td>0.50000</td>\n",
       "    </tr>\n",
       "    <tr>\n",
       "      <th>std</th>\n",
       "      <td>15.853615</td>\n",
       "      <td>8.785562</td>\n",
       "      <td>13414.634022</td>\n",
       "      <td>43.902339</td>\n",
       "      <td>0.499889</td>\n",
       "      <td>0.50025</td>\n",
       "    </tr>\n",
       "    <tr>\n",
       "      <th>min</th>\n",
       "      <td>32.600000</td>\n",
       "      <td>19.000000</td>\n",
       "      <td>13996.500000</td>\n",
       "      <td>104.780000</td>\n",
       "      <td>0.000000</td>\n",
       "      <td>0.00000</td>\n",
       "    </tr>\n",
       "    <tr>\n",
       "      <th>25%</th>\n",
       "      <td>51.360000</td>\n",
       "      <td>29.000000</td>\n",
       "      <td>47031.802500</td>\n",
       "      <td>138.830000</td>\n",
       "      <td>0.000000</td>\n",
       "      <td>0.00000</td>\n",
       "    </tr>\n",
       "    <tr>\n",
       "      <th>50%</th>\n",
       "      <td>68.215000</td>\n",
       "      <td>35.000000</td>\n",
       "      <td>57012.300000</td>\n",
       "      <td>183.130000</td>\n",
       "      <td>0.000000</td>\n",
       "      <td>0.50000</td>\n",
       "    </tr>\n",
       "    <tr>\n",
       "      <th>75%</th>\n",
       "      <td>78.547500</td>\n",
       "      <td>42.000000</td>\n",
       "      <td>65470.635000</td>\n",
       "      <td>218.792500</td>\n",
       "      <td>1.000000</td>\n",
       "      <td>1.00000</td>\n",
       "    </tr>\n",
       "    <tr>\n",
       "      <th>max</th>\n",
       "      <td>91.430000</td>\n",
       "      <td>61.000000</td>\n",
       "      <td>79484.800000</td>\n",
       "      <td>269.960000</td>\n",
       "      <td>1.000000</td>\n",
       "      <td>1.00000</td>\n",
       "    </tr>\n",
       "  </tbody>\n",
       "</table>\n",
       "</div>"
      ],
      "text/plain": [
       "       Daily Time Spent on Site          Age   Area Income  \\\n",
       "count               1000.000000  1000.000000   1000.000000   \n",
       "mean                  65.000200    36.009000  55000.000080   \n",
       "std                   15.853615     8.785562  13414.634022   \n",
       "min                   32.600000    19.000000  13996.500000   \n",
       "25%                   51.360000    29.000000  47031.802500   \n",
       "50%                   68.215000    35.000000  57012.300000   \n",
       "75%                   78.547500    42.000000  65470.635000   \n",
       "max                   91.430000    61.000000  79484.800000   \n",
       "\n",
       "       Daily Internet Usage         Male  Clicked on Ad  \n",
       "count           1000.000000  1000.000000     1000.00000  \n",
       "mean             180.000100     0.481000        0.50000  \n",
       "std               43.902339     0.499889        0.50025  \n",
       "min              104.780000     0.000000        0.00000  \n",
       "25%              138.830000     0.000000        0.00000  \n",
       "50%              183.130000     0.000000        0.50000  \n",
       "75%              218.792500     1.000000        1.00000  \n",
       "max              269.960000     1.000000        1.00000  "
      ]
     },
     "execution_count": 4,
     "metadata": {},
     "output_type": "execute_result"
    }
   ],
   "source": [
    "adv_data.describe()"
   ]
  },
  {
   "cell_type": "markdown",
   "id": "7dc9136e",
   "metadata": {},
   "source": [
    "## EDA"
   ]
  },
  {
   "cell_type": "code",
   "execution_count": 5,
   "id": "e161e004",
   "metadata": {},
   "outputs": [
    {
     "data": {
      "text/plain": [
       "<AxesSubplot:ylabel='Density'>"
      ]
     },
     "execution_count": 5,
     "metadata": {},
     "output_type": "execute_result"
    },
    {
     "data": {
      "image/png": "[encoded data removed]",
      "text/plain": [
       "<Figure size 432x288 with 1 Axes>"
      ]
     },
     "metadata": {
      "needs_background": "light"
     },
     "output_type": "display_data"
    }
   ],
   "source": [
    "adv_data['Age'].plot(kind='kde')"
   ]
  },
  {
   "cell_type": "code",
   "execution_count": 7,
   "id": "f2249e22",
   "metadata": {},
   "outputs": [
    {
     "data": {
      "text/plain": [
       "<AxesSubplot:ylabel='Frequency'>"
      ]
     },
     "execution_count": 7,
     "metadata": {},
     "output_type": "execute_result"
    },
    {
     "data": {
      "image/png": "[encoded data removed]",
      "text/plain": [
       "<Figure size 432x288 with 1 Axes>"
      ]
     },
     "metadata": {
      "needs_background": "light"
     },
     "output_type": "display_data"
    }
   ],
   "source": [
    "adv_data['Age'].plot(kind='hist',bins=20)"
   ]
  },
  {
   "cell_type": "code",
   "execution_count": 9,
   "id": "62c58ade",
   "metadata": {},
   "outputs": [
    {
     "data": {
      "text/plain": [
       "<seaborn.axisgrid.JointGrid at 0x269070e95b0>"
      ]
     },
     "execution_count": 9,
     "metadata": {},
     "output_type": "execute_result"
    },
    {
     "data": {
      "image/png": "[encoded data removed]",
      "text/plain": [
       "<Figure size 432x432 with 3 Axes>"
      ]
     },
     "metadata": {
      "needs_background": "light"
     },
     "output_type": "display_data"
    }
   ],
   "source": [
    "sns.jointplot(data=adv_data,x='Age',y='Area Income')"
   ]
  },
  {
   "cell_type": "code",
   "execution_count": 10,
   "id": "0e6154d8",
   "metadata": {},
   "outputs": [
    {
     "data": {
      "text/plain": [
       "Index(['Daily Time Spent on Site', 'Age', 'Area Income',\n",
       "       'Daily Internet Usage', 'Ad Topic Line', 'City', 'Male', 'Country',\n",
       "       'Timestamp', 'Clicked on Ad'],\n",
       "      dtype='object')"
      ]
     },
     "execution_count": 10,
     "metadata": {},
     "output_type": "execute_result"
    }
   ],
   "source": [
    "adv_data.columns"
   ]
  },
  {
   "cell_type": "code",
   "execution_count": 11,
   "id": "50ba108b",
   "metadata": {},
   "outputs": [
    {
     "data": {
      "text/plain": [
       "<AxesSubplot:xlabel='Age', ylabel='Daily Time Spent on Site'>"
      ]
     },
     "execution_count": 11,
     "metadata": {},
     "output_type": "execute_result"
    },
    {
     "data": {
      "image/png": "[encoded data removed]",
      "text/plain": [
       "<Figure size 432x288 with 1 Axes>"
      ]
     },
     "metadata": {
      "needs_background": "light"
     },
     "output_type": "display_data"
    }
   ],
   "source": [
    "sns.scatterplot(data=adv_data,x='Age',y='Daily Time Spent on Site')"
   ]
  },
  {
   "cell_type": "code",
   "execution_count": 12,
   "id": "5c54c85a",
   "metadata": {},
   "outputs": [
    {
     "data": {
      "text/plain": [
       "<AxesSubplot:xlabel='Age', ylabel='Daily Time Spent on Site'>"
      ]
     },
     "execution_count": 12,
     "metadata": {},
     "output_type": "execute_result"
    },
    {
     "data": {
      "image/png": "[encoded data removed]",
      "text/plain": [
       "<Figure size 432x288 with 1 Axes>"
      ]
     },
     "metadata": {
      "needs_background": "light"
     },
     "output_type": "display_data"
    }
   ],
   "source": [
    "sns.boxplot(data=adv_data,x='Age',y='Daily Time Spent on Site')"
   ]
  },
  {
   "cell_type": "code",
   "execution_count": 13,
   "id": "d6338399",
   "metadata": {},
   "outputs": [
    {
     "data": {
      "text/plain": [
       "Lisamouth         3\n",
       "Williamsport      3\n",
       "Wrightburgh       2\n",
       "Lake Jose         2\n",
       "Robertfurt        2\n",
       "                 ..\n",
       "Burgessside       1\n",
       "Hurleyborough     1\n",
       "Garychester       1\n",
       "East Kevinbury    1\n",
       "Ronniemouth       1\n",
       "Name: City, Length: 969, dtype: int64"
      ]
     },
     "execution_count": 13,
     "metadata": {},
     "output_type": "execute_result"
    }
   ],
   "source": [
    "adv_data['City'].value_counts()"
   ]
  },
  {
   "cell_type": "code",
   "execution_count": 14,
   "id": "aed61d99",
   "metadata": {},
   "outputs": [
    {
     "data": {
      "text/plain": [
       "France                                                 9\n",
       "Czech Republic                                         9\n",
       "Peru                                                   8\n",
       "Turkey                                                 8\n",
       "Greece                                                 8\n",
       "                                                      ..\n",
       "Romania                                                1\n",
       "British Indian Ocean Territory (Chagos Archipelago)    1\n",
       "Germany                                                1\n",
       "Aruba                                                  1\n",
       "Lesotho                                                1\n",
       "Name: Country, Length: 237, dtype: int64"
      ]
     },
     "execution_count": 14,
     "metadata": {},
     "output_type": "execute_result"
    }
   ],
   "source": [
    "adv_data['Country'].value_counts()"
   ]
  },
  {
   "cell_type": "code",
   "execution_count": 18,
   "id": "59b3b205",
   "metadata": {},
   "outputs": [
    {
     "data": {
      "text/plain": [
       "array(['Wrightburgh', 'West Jodi', 'Davidton', 'West Terrifurt',\n",
       "       'South Manuel', 'Jamieberg', 'Brandonstad', 'Port Jefferybury',\n",
       "       'West Colin', 'Ramirezton', 'West Brandonton', 'East Theresashire',\n",
       "       'West Katiefurt', 'North Tara', 'West William', 'New Travistown',\n",
       "       'West Dylanberg', 'Pruittmouth', 'Jessicastad', 'Millertown',\n",
       "       'Port Jacqueline', 'Lake Nicole', 'South John', 'Pamelamouth',\n",
       "       'Harperborough', 'Port Danielleberg', 'West Jeremyside',\n",
       "       'South Cathyfurt', 'Palmerside', 'West Guybury', 'Phelpschester',\n",
       "       'Lake Melindamouth', 'North Richardburgh', 'Port Cassie',\n",
       "       'New Thomas', 'Johnstad', 'West Aprilport', 'Kellytown',\n",
       "       'Charlesport', 'Millerchester', 'Mackenziemouth', 'Zacharystad',\n",
       "       'North Joshua', 'Bowenview', 'Jamesberg', 'Lake Cassandraport',\n",
       "       'New Sharon', 'Johnport', 'Hamiltonfort', 'West Christopher',\n",
       "       'Hollandberg', 'Odomville', 'East Samanthashire', 'South Lauraton',\n",
       "       'Amandahaven', 'Thomasview', 'Garciaside', 'Port Sarahshire',\n",
       "       'Port Gregory', 'Brendachester', 'Lake Amy', 'Lake Annashire',\n",
       "       'Smithburgh', 'North Leonmouth', 'Robertfurt', 'Jasminefort',\n",
       "       'Jensenborough', 'Bradleyburgh', 'New Sheila', 'North Regina',\n",
       "       'Davidmouth', 'New Michaeltown', 'East Tammie', 'Wilcoxport',\n",
       "       'East Michaelmouth', 'East Tiffanyport', 'Ramirezhaven',\n",
       "       'Cranemouth', 'Lake Edward', 'Lake Conniefurt',\n",
       "       'East Shawnchester', 'West Joseph', 'Lake Christopherfurt',\n",
       "       'East Tylershire', 'Sharpberg', 'Lake Dustin', 'North Kristine',\n",
       "       'Grahamberg', 'New Tina', 'Nelsonfurt', 'Christopherport',\n",
       "       'Port Sarahhaven', 'Bradleyborough', 'Whiteport', 'New Theresa',\n",
       "       'Wongland', 'Williammouth', 'Williamsborough', 'North Michael',\n",
       "       'Benjaminchester', 'Hernandezville', 'Youngburgh',\n",
       "       'Wallacechester', 'Sanchezmouth', 'Bradshawborough', 'Amyhaven',\n",
       "       'Marcushaven', 'Erinton', 'Hughesport', 'New Lucasburgh',\n",
       "       'Michelleside', 'Andersonton', 'New Rachel', 'Port Susan',\n",
       "       'West Angelabury', 'Port Christopherborough', 'Phillipsbury',\n",
       "       'Millerside', 'Lake Jessica', 'Lopezmouth', 'Johnsport',\n",
       "       'South Ronald', 'South Daniel', 'Suzannetown', 'Lisaberg',\n",
       "       'Brianfurt', 'Stewartbury', 'North Wesleychester',\n",
       "       'East Michelleberg', 'Port Eric', 'Timothyfurt', 'Port Jeffrey',\n",
       "       'Guzmanland', 'East Michele', 'East John', 'Lesliebury',\n",
       "       'Patriciahaven', 'Ashleychester', 'Lake Josetown', 'Debraburgh',\n",
       "       'New Debbiestad', 'West Shaun', 'Kimberlyhaven', 'Port Lawrence',\n",
       "       'West Ricardo', 'Lake Jose', 'Heatherberg', 'South George',\n",
       "       'Tinachester', 'Port Jodi', 'Jonathantown', 'Sylviaview',\n",
       "       'East Timothyport', 'West Roytown', 'Codyburgh', 'Port Erikhaven',\n",
       "       'Port Chasemouth', 'Ramirezside', 'East Michaeltown',\n",
       "       'West Courtney', 'West Michaelhaven', 'Walshhaven',\n",
       "       'East Rachelview', 'Curtisport', 'Frankbury', 'Timothytown',\n",
       "       'Samanthaland', 'South Jennifer', 'Kyleborough', 'North Randy',\n",
       "       'South Daniellefort', 'Dianashire', 'East Eric', 'Hammondport',\n",
       "       'Jacobstad', 'Hernandezfort', 'Joneston', 'New Jeffreychester',\n",
       "       'East Stephen', 'Turnerchester', 'Youngfort', 'Ingramberg',\n",
       "       'South Denisefurt', 'Port Melissaberg', 'Bernardton',\n",
       "       'Port Mathew', 'Aliciatown', 'Josephstad', 'West Ericfurt',\n",
       "       'New Brendafurt', 'Port Julie', 'South Tiffanyton',\n",
       "       'North Elizabeth', 'Kentmouth', 'West Casey', 'East Henry',\n",
       "       'Hollyfurt', 'North Anna', 'Port Destiny', 'Ianmouth',\n",
       "       'North Johntown', 'Hannahside', 'Wilsonburgh',\n",
       "       'North Russellborough', 'Murphymouth', 'Carterburgh', 'Penatown',\n",
       "       'Joechester', 'East Paul', 'Hartmanchester', 'Mcdonaldfort',\n",
       "       'North Mercedes', 'Taylorberg', 'Hansenmouth', 'Bradyfurt',\n",
       "       'West Jessicahaven', 'Davilachester', 'North Ricardotown',\n",
       "       'Melissafurt', 'East Brianberg', 'Millerbury', 'Garciaview',\n",
       "       'Townsendfurt', 'Williamstad', 'West Connor', 'West Justin',\n",
       "       'Robertbury', 'New Tinamouth', 'Turnerview', 'Reneechester',\n",
       "       'West Tinashire', 'Jamesfurt', 'New Nancy', 'Lisamouth',\n",
       "       'Harveyport', 'Ramosstad', 'North Kevinside', 'Haleview',\n",
       "       'Christinetown', 'New Michael', 'Jonesland', 'North Shannon',\n",
       "       'New Sonialand', 'Port Jason', 'East Barbara', 'Port Erinberg',\n",
       "       'Petersonfurt', 'New Lindaberg', 'West Russell', 'South Adam',\n",
       "       'North Tracyport', 'Brownport', 'Port Crystal', 'Masonhaven',\n",
       "       'Derrickhaven', 'Olsonstad', 'New Brandy', 'South Jasminebury',\n",
       "       'East Timothy', 'Charlottefort', 'Lake Beckyburgh',\n",
       "       'West Lindseybury', 'West Alyssa', 'Lake Craigview', 'Lake David',\n",
       "       'Bruceburgh', 'South Lauratown', 'Port Robin', 'Jacksonburgh',\n",
       "       'Erinmouth', 'Port Aliciabury', 'Port Whitneyhaven',\n",
       "       'Jeffreyshire', 'Tinaton', 'North Loriburgh', 'Wendyton',\n",
       "       'Lake Jacqueline', 'North Christopher', 'Alexanderfurt',\n",
       "       'West Pamela', 'West Amanda', 'South Tomside', 'Bethburgh',\n",
       "       'Jamiefort', 'Garciamouth', 'West Brenda', 'South Kyle',\n",
       "       'Combsstad', 'Lake Allenville', 'Greenechester', 'Jordantown',\n",
       "       'Gravesport', 'South Troy', 'Lake Patrick', 'Millerland',\n",
       "       'Port Jessicamouth', 'Paulport', 'Clineshire', 'Cynthiaside',\n",
       "       'Port Juan', 'Michellefort', 'Port Angelamouth', 'Jessicahaven',\n",
       "       'North Daniel', 'New Juan', 'Amyfurt', 'Harrishaven', 'Roberttown',\n",
       "       'Jeremyshire', 'Birdshire', 'New Amanda', 'Curtisview',\n",
       "       'Jacksonmouth', 'North April', 'Hayesmouth', 'South Corey',\n",
       "       'Juliaport', 'Port Paultown', 'East Vincentstad', 'Kimberlytown',\n",
       "       'New Steve', 'New Johnberg', 'Shawstad', 'New Rebecca',\n",
       "       'Jeffreyburgh', 'Faithview', 'Richardsontown', 'Port Brookeland',\n",
       "       'East Christopherbury', 'Port Christinemouth', 'South Meghan',\n",
       "       'Hessstad', 'Rhondaborough', 'Lewismouth', 'New Paul',\n",
       "       'Lake Angela', 'East Graceland', 'Hartport', 'East Yvonnechester',\n",
       "       'Burgessside', 'Hurleyborough', 'Garychester', 'East Kevinbury',\n",
       "       'Contrerasshire', 'Erikville', 'Robertsonburgh', 'Karenton',\n",
       "       'Port Kathleenfort', 'Lake Adrian', 'Mollyport', 'Sandraland',\n",
       "       'Charlenetown', 'Luischester', 'South Johnnymouth', 'Hannaport',\n",
       "       'East Anthony', 'West Daleborough', 'Morrismouth',\n",
       "       'North Andrewstad', 'West Tanya', 'Novaktown', 'Timothymouth',\n",
       "       'Robertmouth', 'Stephenborough', 'Lake Kurtmouth', 'Lauraburgh',\n",
       "       'Rogerburgh', 'Davidside', 'West Thomas', 'Andersonchester',\n",
       "       'North Ronaldshire', 'Greghaven', 'Jordanmouth', 'Meyersstad',\n",
       "       'South Robert', 'New Tyler', 'Jordanshire', 'Reyesland',\n",
       "       'New Traceystad', 'Port Brian', 'Lake Courtney', 'Samuelborough',\n",
       "       'Christinehaven', 'Thomasstad', 'Kristintown', 'New Wanda',\n",
       "       'Mariebury', 'Christopherville', 'New Jasmine', 'Lopezberg',\n",
       "       'Jenniferstad', 'West Eduardotown', 'Davisfurt', 'Bakerhaven',\n",
       "       'Paulshire', 'West Jane', 'Lake Brian', 'Alvaradoport',\n",
       "       'Lake Kevin', 'Richardsonland', 'East Sheriville',\n",
       "       'Port Michealburgh', 'Monicaview', 'Katieport',\n",
       "       'East Brittanyville', 'West Travismouth', 'Leonchester',\n",
       "       'Ramirezland', 'Brownton', 'New Jessicaport', 'New Denisebury',\n",
       "       'Keithtown', 'Port Melissastad', 'Janiceview', 'Mataberg',\n",
       "       'West Melaniefurt', 'Millerfort', 'Alexanderview', 'South Jade',\n",
       "       'Lake Susan', 'South Vincentchester', 'Williamsmouth',\n",
       "       'Taylorport', 'Williamsport', 'Emilyfurt', 'East Deborahhaven',\n",
       "       'Port Katelynview', 'Paulhaven', 'Elizabethmouth', 'Lake Jesus',\n",
       "       'North Tylerland', 'Munozberg', 'North Maryland', 'West Barbara',\n",
       "       'Andrewborough', 'New Gabriel', 'Port Patrickton', 'West Julia',\n",
       "       'New Keithburgh', 'Richardsland', 'North Aaronchester',\n",
       "       'Lake Matthewland', 'Kevinberg', 'Morganfort', 'Lovemouth',\n",
       "       'Taylorhaven', 'Jamesville', 'East Toddfort', 'East Dana',\n",
       "       'West Lucas', 'Butlerfort', 'Lindaside', 'West Chloeborough',\n",
       "       'Jayville', 'East Lindsey', 'Masseyshire', 'Sarahton', 'Ryanhaven',\n",
       "       'Lake Deborahburgh', 'New Williammouth', 'Port Blake',\n",
       "       'West Richard', 'Brandymouth', 'Sandraville', 'Port Jessica',\n",
       "       'Lake Jasonchester', 'Pearsonfort', 'Sellerstown', 'Yuton',\n",
       "       'Smithtown', 'Joanntown', 'South Peter', 'Port Mitchell',\n",
       "       'Pottermouth', 'Lake Jonathanview', 'Alanview', 'Carterport',\n",
       "       'New Daniellefort', 'Welchshire', 'Russellville', 'West Lisa',\n",
       "       'Greentown', 'Timothyport', 'Teresahaven', 'Lake Stephenborough',\n",
       "       'Silvaton', 'West Michaelstad', 'Florestown', 'New Jay',\n",
       "       'North Lisachester', 'Port Stacy', 'Jensenton', 'North Alexandra',\n",
       "       'Rivasland', 'Helenborough', 'Garnerberg', 'North Anaport',\n",
       "       'Pattymouth', 'South Alexisborough', 'East Jennifer', 'Hallfort',\n",
       "       'New Charleschester', 'East Breannafurt', 'East Susanland',\n",
       "       'Estesfurt', 'Shirleyfort', 'Douglasview', 'South Lisa',\n",
       "       'Kingshire', 'Rebeccamouth', 'Brownbury', 'South Aaron',\n",
       "       'North Andrew', 'South Walter', 'Catherinefort', 'East Donna',\n",
       "       'North Kimberly', 'South Stephanieport', 'North Isabellaville',\n",
       "       'North Aaronburgh', 'Port James', 'Danielview', 'Port Stacey',\n",
       "       'West Kevinfurt', 'Lake Jennifer', 'Reyesfurt', 'West Carmenfurt',\n",
       "       'North Stephanieberg', 'East Valerie', 'Sherrishire',\n",
       "       'Port Daniel', 'Brownview', 'Greerton', 'Hatfieldshire',\n",
       "       'Brianabury', 'New Maria', 'Colebury', 'Calebberg', 'Lake Ian',\n",
       "       'Gomezport', 'Shaneland', 'East Aaron', 'Dustinborough',\n",
       "       'East Michaelland', 'East Connie', 'West Shannon',\n",
       "       'North Lauraland', 'Port Christopher', 'South Patrickfort',\n",
       "       'East Georgeside', 'Charlesbury', 'South Renee',\n",
       "       'South Jackieberg', 'Loriville', 'Amandaland', 'West Robertside',\n",
       "       'North Sarashire', 'Port Maria', 'East Jessefort', 'Port Anthony',\n",
       "       'Edwardmouth', 'Dustinchester', 'Rochabury', 'Austinland',\n",
       "       'Lake Gerald', 'Wrightview', 'Perryburgh', 'Tracyhaven',\n",
       "       'South Jaimeview', 'Sandersland', 'South Meredithmouth',\n",
       "       'Richardsonshire', 'Kimberlymouth', 'Meghanchester', 'Tammyshire',\n",
       "       'Lake Elizabethside', 'Villanuevaton', 'Greerport',\n",
       "       'North Garyhaven', 'East Sharon', 'Johnstonmouth',\n",
       "       'East Heatherside', 'Richardsonmouth', 'Jenniferhaven',\n",
       "       'Boyerberg', 'Port Elijah', 'Knappburgh', 'New Dawnland',\n",
       "       'Chapmanmouth', 'Robertside', 'West Raymondmouth', 'Costaburgh',\n",
       "       'Kristineberg', 'Sandrashire', 'Andersonfurt', 'Tranland',\n",
       "       'Michaelland', 'East Rachaelfurt', 'Lake Johnbury',\n",
       "       'Elizabethstad', 'West Brad', 'Johnstonshire', 'Lake Timothy',\n",
       "       'Anthonyfurt', 'East Brettton', 'New Matthew',\n",
       "       'Christopherchester', 'Westshire', 'Alexisland', 'Kevinchester',\n",
       "       'New Patriciashire', 'Port Brenda', 'Port Brianfort',\n",
       "       'Portermouth', 'Hubbardmouth', 'South Brian', 'Hendrixmouth',\n",
       "       'Julietown', 'Lukeport', 'New Shane', 'Lake Jillville',\n",
       "       'Johnsonfort', 'Adamsbury', 'East Maureen', 'North Angelastad',\n",
       "       'Amandafort', 'Michaelmouth', 'Ronaldport', 'Port Davidland',\n",
       "       'Isaacborough', 'Lake Michael', 'West Michaelshire',\n",
       "       'Port Calvintown', 'Parkerhaven', 'Markhaven', 'Estradashire',\n",
       "       'Brianland', 'Cassandratown', 'West Dannyberg',\n",
       "       'East Debraborough', 'Frankchester', 'Lisafort', 'Colemanshire',\n",
       "       'Troyville', 'Hobbsbury', 'Harrisonmouth', 'Port Eugeneport',\n",
       "       'Karenmouth', 'Brendaburgh', 'New Christinatown', 'Jacksonstad',\n",
       "       'South Margaret', 'Port Georgebury', 'Sanderstown', 'Perezland',\n",
       "       'Luisfurt', 'New Karenberg', 'West Leahton', 'West Sharon',\n",
       "       'Klineside', 'Lake Cynthia', 'South Cynthiashire', 'Lake Jacob',\n",
       "       'West Samantha', 'Jeremybury', 'Blevinstown', 'Meyerchester',\n",
       "       'Reginamouth', 'Donaldshire', 'Salazarbury', 'Lake Joshuafurt',\n",
       "       'Wintersfort', 'Jamesmouth', 'Laurieside', 'Andrewmouth',\n",
       "       'West Angela', 'East Carlos', 'Kennedyfurt', 'Blairville',\n",
       "       'East Donnatown', 'Matthewtown', 'Brandonbury', 'New Jamestown',\n",
       "       'Mosleyburgh', 'Leahside', 'West Wendyland', 'Lawrenceborough',\n",
       "       'Kennethview', 'West Mariafort', 'Port Sherrystad',\n",
       "       'West Melissashire', 'Lesliefort', 'Shawnside', 'Josephmouth',\n",
       "       'Garciatown', 'Chaseshire', 'Destinyfurt', 'Mezaton', 'New Kayla',\n",
       "       'Carsonshire', 'Jacquelineshire', 'South Blakestad', 'North Mark',\n",
       "       'Kingchester', 'Evansfurt', 'South Adamhaven', 'Brittanyborough',\n",
       "       'Barbershire', 'East Ericport', 'Crawfordfurt', 'Turnerville',\n",
       "       'Kylieview', 'West Zacharyborough', 'Watsonfort', 'Dayton',\n",
       "       'Nicholasport', 'Whitneyfort', 'Coffeytown', 'North Johnside',\n",
       "       'Robinsonland', 'West Ericaport', 'Haleberg', 'West Michaelport',\n",
       "       'Ericksonmouth', 'Yangside', 'Estradafurt', 'Frankport',\n",
       "       'Williamsside', 'Johnsonview', 'East Heidi', 'New Angelview',\n",
       "       'Lake Brandonview', 'Morganport', 'Browntown', 'Lake Hailey',\n",
       "       'Olsonside', 'Coxhaven', 'Meaganfort', 'North Monicaville',\n",
       "       'Mullenside', 'Princebury', 'Bradleyside', 'Elizabethbury',\n",
       "       'West Ryan', 'New Tammy', 'Sanchezland', 'Rogerland',\n",
       "       'Vanessaview', 'Jessicashire', 'Melissachester', 'Johnsontown',\n",
       "       'New Joshuaport', 'Hernandezside', 'New Williamville',\n",
       "       'Gilbertville', 'Newmanberg', 'West Alice', 'Cannonbury',\n",
       "       'Shelbyport', 'New Henry', 'Dustinmouth', 'New Hollyberg',\n",
       "       'Port Brittanyville', 'East Ronald', 'South Davidmouth',\n",
       "       'Carterton', 'Rachelhaven', 'New Timothy', 'North Jessicaville',\n",
       "       'Staceyfort', 'South Dianeshire', 'Micheletown',\n",
       "       'North Brittanyburgh', 'Port Jasmine', 'New Sabrina',\n",
       "       'Lake Charlottestad', 'West Rhondamouth', 'North Debra',\n",
       "       'Villanuevastad', 'North Jeremyport', 'Lake John', 'Courtneyfort',\n",
       "       'Tammymouth', 'Lake Vanessa', 'Lake Amanda', 'Mariemouth',\n",
       "       'Port Douglasborough', 'Port Aprilville', 'Lake Faith',\n",
       "       'Wendyville', 'Angelhaven', 'New Sean', 'Lake Lisa', 'Valerieland',\n",
       "       'New Travis', 'North Samantha', 'Holderville', 'Patrickmouth',\n",
       "       'Lake Deannaborough', 'Jeffreymouth', 'Davieshaven',\n",
       "       'Lake Jessicaville', 'Hernandezchester', 'North Kennethside',\n",
       "       'Williamport', 'Smithside', 'Vanessastad', 'Lake Rhondaburgh',\n",
       "       'Cunninghamhaven', 'Robertstown', 'South Mark', 'New Taylorburgh',\n",
       "       'Port Karenfurt', 'Carterland', 'East Shawn', 'West Derekmouth',\n",
       "       'Brandiland', 'Cervantesshire', 'North Debrashire', 'Deannaville',\n",
       "       'East Christopher', 'Rickymouth', 'Port Dennis', 'Lake Michelle',\n",
       "       'East Johnport', 'Sabrinaview', 'Kristinfurt', 'Chapmanland',\n",
       "       'North Jonathan', 'Port Christina', 'Juanport', 'East Mike',\n",
       "       'North Angelatown', 'West Steven', 'Riggsstad', 'Davidview',\n",
       "       'Port Kevinborough', 'Lawsonshire', 'Wagnerchester', 'Daisymouth',\n",
       "       'Port Jacquelinestad', 'New Teresa', 'Henryfort', 'Lake Joseph',\n",
       "       'Daviesborough', 'North Brandon', 'Adamside', 'Wademouth',\n",
       "       'North Raymond', 'Randolphport', 'East Troyhaven', 'Clarkborough',\n",
       "       'Josephberg', 'Lake Jenniferton', 'Ashleymouth', 'Henryland',\n",
       "       'Lake Danielle', 'Joshuaburgh', 'South Jeanneport', 'New Nathan',\n",
       "       'Jonesshire', 'Mariahview', 'New Julianberg', 'Randyshire',\n",
       "       'Philipberg', 'West Dennis', 'Richardshire', 'Lake James',\n",
       "       'Austinborough', 'Alexandrafort', 'Melissastad', 'Gonzalezburgh',\n",
       "       'Port Jennifer', 'Chrismouth', 'Port Beth', 'West David',\n",
       "       'Fraziershire', 'South Pamela', 'North Laurenview', 'Campbellstad',\n",
       "       'Port Derekberg', 'West Andrew', 'West Randy', 'South Christopher',\n",
       "       'Lake Michellebury', 'Zacharyton', 'West James', 'Millerview',\n",
       "       'Hawkinsbury', 'Elizabethport', 'Wadestad', 'Mauriceshire',\n",
       "       'West Arielstad', 'Adamsstad', 'Blairborough', 'New Marcusbury',\n",
       "       'Evansville', 'Huffmanchester', 'New Cynthia', 'Joshuamouth',\n",
       "       'West Benjamin', 'Williamsfort', 'North Tiffany', 'Edwardsport',\n",
       "       'Lake Evantown', 'South Henry', 'Harmonhaven', 'West Gregburgh',\n",
       "       'Hansenland', 'Port Michaelmouth', 'Tylerport', 'West Lacey',\n",
       "       'North Jenniferburgh', 'South Davidhaven', 'North Charlesbury',\n",
       "       'Jonathanland', 'North Virginia', 'West Tanner', 'Jonesmouth',\n",
       "       'West Annefort', 'East Jason', 'North Cassie', 'Hintonport',\n",
       "       'New James', 'North Destiny', 'Mclaughlinbury',\n",
       "       'West Gabriellamouth', 'Alvarezland', 'New Julie',\n",
       "       'North Frankstad', 'Claytonside', 'Melanieton', 'Lake Michaelport',\n",
       "       'East Benjaminville', 'Garrettborough', 'Port Raymondfort',\n",
       "       'Waltertown', 'Cameronberg', 'Kaylashire', 'Fosterside',\n",
       "       'Davidstad', 'Lake Tracy', 'Taylormouth', 'Dianaville',\n",
       "       'Collinsburgh', 'Port Rachel', 'South Rebecca', 'Port Joshuafort',\n",
       "       'Robinsontown', 'Beckton', 'New Frankshire', 'North Derekville',\n",
       "       'West Sydney', 'Lake Matthew', 'Lake Zacharyfurt', 'Lindsaymouth',\n",
       "       'Sarahland', 'Michaelshire', 'Sarafurt', 'South Denise',\n",
       "       'North Katie', 'Mauricefurt', 'New Patrick', 'Edwardsmouth',\n",
       "       'Nicholasland', 'Duffystad', 'New Darlene', 'South Jessica',\n",
       "       'Ronniemouth'], dtype=object)"
      ]
     },
     "execution_count": 18,
     "metadata": {},
     "output_type": "execute_result"
    }
   ],
   "source": [
    "adv_data['City'].unique()"
   ]
  },
  {
   "cell_type": "code",
   "execution_count": 19,
   "id": "dd89dd2d",
   "metadata": {},
   "outputs": [
    {
     "data": {
      "text/plain": [
       "969"
      ]
     },
     "execution_count": 19,
     "metadata": {},
     "output_type": "execute_result"
    }
   ],
   "source": [
    "len(adv_data['City'].unique())"
   ]
  },
  {
   "cell_type": "code",
   "execution_count": 20,
   "id": "62eb53f7",
   "metadata": {},
   "outputs": [
    {
     "data": {
      "text/plain": [
       "Index(['Daily Time Spent on Site', 'Age', 'Area Income',\n",
       "       'Daily Internet Usage', 'Ad Topic Line', 'City', 'Male', 'Country',\n",
       "       'Timestamp', 'Clicked on Ad'],\n",
       "      dtype='object')"
      ]
     },
     "execution_count": 20,
     "metadata": {},
     "output_type": "execute_result"
    }
   ],
   "source": [
    "adv_data.columns"
   ]
  },
  {
   "cell_type": "code",
   "execution_count": 21,
   "id": "67dad6bd",
   "metadata": {},
   "outputs": [],
   "source": [
    "X = adv_data[['Daily Time Spent on Site', 'Age', 'Area Income',\n",
    "       'Daily Internet Usage', 'Male']]\n",
    "\n",
    "y = adv_data['Clicked on Ad']"
   ]
  },
  {
   "cell_type": "code",
   "execution_count": 22,
   "id": "9030c2e6",
   "metadata": {},
   "outputs": [],
   "source": [
    "X_train,X_test,y_train,y_test = train_test_split(X,y,test_size=0.3,random_state=42)"
   ]
  },
  {
   "cell_type": "code",
   "execution_count": 27,
   "id": "c4a3425c",
   "metadata": {},
   "outputs": [],
   "source": [
    "LogModel = LogisticRegression()"
   ]
  },
  {
   "cell_type": "code",
   "execution_count": 28,
   "id": "ecb2e3cb",
   "metadata": {},
   "outputs": [
    {
     "data": {
      "text/plain": [
       "LogisticRegression()"
      ]
     },
     "execution_count": 28,
     "metadata": {},
     "output_type": "execute_result"
    }
   ],
   "source": [
    "LogModel.fit(X_train,y_train)"
   ]
  },
  {
   "cell_type": "code",
   "execution_count": 29,
   "id": "2c9500ef",
   "metadata": {},
   "outputs": [],
   "source": [
    "y_pred = LogModel.predict(X_test)"
   ]
  },
  {
   "cell_type": "code",
   "execution_count": 30,
   "id": "dd1eba5e",
   "metadata": {},
   "outputs": [
    {
     "name": "stdout",
     "output_type": "stream",
     "text": [
      "              precision    recall  f1-score   support\n",
      "\n",
      "           0       0.85      0.96      0.90       146\n",
      "           1       0.96      0.84      0.89       154\n",
      "\n",
      "    accuracy                           0.90       300\n",
      "   macro avg       0.90      0.90      0.90       300\n",
      "weighted avg       0.90      0.90      0.90       300\n",
      "\n"
     ]
    }
   ],
   "source": [
    "print(classification_report(y_test,y_pred))"
   ]
  },
  {
   "cell_type": "code",
   "execution_count": 31,
   "id": "892bfd62",
   "metadata": {},
   "outputs": [
    {
     "name": "stdout",
     "output_type": "stream",
     "text": [
      "[[140   6]\n",
      " [ 25 129]]\n"
     ]
    }
   ],
   "source": [
    "print(confusion_matrix(y_test,y_pred))"
   ]
  },
  {
   "cell_type": "code",
   "execution_count": 32,
   "id": "8e3f7205",
   "metadata": {},
   "outputs": [
    {
     "name": "stdout",
     "output_type": "stream",
     "text": [
      "0.8966666666666666\n"
     ]
    }
   ],
   "source": [
    "print(accuracy_score(y_test,y_pred))"
   ]
  },
  {
   "cell_type": "code",
   "execution_count": null,
   "id": "65425f42",
   "metadata": {},
   "outputs": [],
   "source": []
  }
 ],
 "metadata": {
  "kernelspec": {
   "display_name": "Python 3 (ipykernel)",
   "language": "python",
   "name": "python3"
  },
  "language_info": {
   "codemirror_mode": {
    "name": "ipython",
    "version": 3
   },
   "file_extension": ".py",
   "mimetype": "text/x-python",
   "name": "python",
   "nbconvert_exporter": "python",
   "pygments_lexer": "ipython3",
   "version": "3.9.7"
  }
 },
 "nbformat": 4,
 "nbformat_minor": 5
}
